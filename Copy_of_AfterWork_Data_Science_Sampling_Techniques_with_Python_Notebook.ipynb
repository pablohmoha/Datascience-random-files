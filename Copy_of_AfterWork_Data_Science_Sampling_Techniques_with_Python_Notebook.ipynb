{
  "nbformat": 4,
  "nbformat_minor": 0,
  "metadata": {
    "colab": {
      "name": "Copy of AfterWork Data Science: Sampling Techniques with Python Notebook",
      "provenance": [],
      "collapsed_sections": [
        "EVUW_7soCz54",
        "CbEGCD0T3LoR",
        "QZ2jAvefDoey",
        "yEOzCd-JDqEV",
        "E1pGyZZyC4L7",
        "LtyPNQJrD21j",
        "J3wZkkhfD64z",
        "9z813vHmDZ6W",
        "CzbgkvsuECnI",
        "caeBSG23D9qn",
        "bui-wArzDV7y",
        "UcmvzSgNEB_h",
        "hqXRbdPPD8lt"
      ],
      "toc_visible": true,
      "include_colab_link": true
    },
    "kernelspec": {
      "name": "python3",
      "display_name": "Python 3"
    }
  },
  "cells": [
    {
      "cell_type": "markdown",
      "metadata": {
        "id": "view-in-github",
        "colab_type": "text"
      },
      "source": [
        "<a href=\"https://colab.research.google.com/github/pablohmoha/Datascience-random-files/blob/master/Copy_of_AfterWork_Data_Science_Sampling_Techniques_with_Python_Notebook.ipynb\" target=\"_parent\"><img src=\"https://colab.research.google.com/assets/colab-badge.svg\" alt=\"Open In Colab\"/></a>"
      ]
    },
    {
      "cell_type": "markdown",
      "metadata": {
        "id": "H1lQlaXUEQGU",
        "colab_type": "text"
      },
      "source": [
        "<font color=\"blue\">To use this notebook on Google Colaboratory, you will need to make a copy of it. Go to **File** > **Save a Copy in Drive**. You can then use the new copy that will appear in the new tab.</font>"
      ]
    },
    {
      "cell_type": "markdown",
      "metadata": {
        "id": "WK7OhmB4_6FK",
        "colab_type": "text"
      },
      "source": [
        "# Sampling Techniques with Python Notebook"
      ]
    },
    {
      "cell_type": "markdown",
      "metadata": {
        "id": "EVUW_7soCz54",
        "colab_type": "text"
      },
      "source": [
        "## 1. Simple Random Sampling (SRS)"
      ]
    },
    {
      "cell_type": "markdown",
      "metadata": {
        "id": "CbEGCD0T3LoR",
        "colab_type": "text"
      },
      "source": [
        "### Importing our Prerequisites"
      ]
    },
    {
      "cell_type": "code",
      "metadata": {
        "id": "7NkOMHZk3LGc",
        "colab_type": "code",
        "colab": {}
      },
      "source": [
        "# Importing pandas for performing data maniputation\n",
        "# \n",
        "import pandas as pd\n",
        "\n",
        "# Importing numpy for performing scientific computations\n",
        "import numpy as np\n",
        "\n",
        "# Importing random module for random sampling\n",
        "# \n",
        "import random"
      ],
      "execution_count": 0,
      "outputs": []
    },
    {
      "cell_type": "markdown",
      "metadata": {
        "id": "QZ2jAvefDoey",
        "colab_type": "text"
      },
      "source": [
        "### Examples "
      ]
    },
    {
      "cell_type": "code",
      "metadata": {
        "id": "p-6fWJfY_00G",
        "colab_type": "code",
        "colab": {}
      },
      "source": [
        "# Example 1\n",
        "# ---\n",
        "# Selecting a random sample without replacement\n",
        "# ---\n",
        "# Some data can be stored in a list and you would be required to select more than \n",
        "# one item from that particular list. \n",
        "# ---\n",
        "# In this example, we will be selecting more than one item from a given list. \n",
        "# We will use the random.sample() function to return a particular subset list \n",
        "# of items from the given list.\n",
        "# The function is normally used for random sampling without replacement.\n",
        "# k in the function, will be an integer value that will specify the length of a sample.\n",
        "# ---\n",
        "# \n",
        "\n",
        "# Defining our list \n",
        "# \n",
        "example_list = [10, 15, 20, 25, 30, 35, 40, 45, 50, 55]\n",
        "\n",
        "# Then select a sample of 2 items\n",
        "# \n",
        "print(\"Selecting 2 random items from our list\", random.sample(example_list, k = 2))"
      ],
      "execution_count": 0,
      "outputs": []
    },
    {
      "cell_type": "code",
      "metadata": {
        "id": "1k2nGvJBFZsg",
        "colab_type": "code",
        "colab": {}
      },
      "source": [
        "# Example 2\n",
        "# ---\n",
        "# We can also select a random sample with replacement from a given list.\n",
        "# This would mean that we can get the same item more than once during sampling.\n",
        "# Let's do this through the use of the random.choice() function.\n",
        "# ---\n",
        "#\n",
        "\n",
        "# Defining our list\n",
        "# ---\n",
        "#\n",
        "footballers = [\"Messi\", \"Ronaldo\", \"Salah\", \"Mane\", \"Alison\", \"Van Dyke\", \"Relah\"]\n",
        "\n",
        "# Then select a sample of 4 items\n",
        "# \n",
        "print(\"Random sample with replacement:\", random.choices(footballers, k = 4))"
      ],
      "execution_count": 0,
      "outputs": []
    },
    {
      "cell_type": "code",
      "metadata": {
        "id": "s34G4FyuFlsK",
        "colab_type": "code",
        "colab": {}
      },
      "source": [
        "# Challenge 3\n",
        "# ---\n",
        "# We can also select a random sample from a given dataset as show below:\n",
        "# ---\n",
        "#\n",
        "\n",
        "# We first import and preview our dataset.\n",
        "# This will help us understand our dataset before doing anything else.\n",
        "# ---\n",
        "# \n",
        "spending_df = pd.read_csv(\"https://bit.ly/2WtrItx\")\n",
        "spending_df.head()"
      ],
      "execution_count": 0,
      "outputs": []
    },
    {
      "cell_type": "code",
      "metadata": {
        "id": "8XRVihFPbD7S",
        "colab_type": "code",
        "colab": {}
      },
      "source": [
        "# We then determine the size of our dataset;  (records, columns) \n",
        "# ---\n",
        "#\n",
        "spending_df.shape"
      ],
      "execution_count": 0,
      "outputs": []
    },
    {
      "cell_type": "code",
      "metadata": {
        "id": "Sa8C_rO7cFGw",
        "colab_type": "code",
        "colab": {}
      },
      "source": [
        "# Then lastly, we select and preview a random sample of 10 records \n",
        "# as using the sample() function as shown below.  \n",
        "# ---\n",
        "#\n",
        "spending_df.sample(10) "
      ],
      "execution_count": 0,
      "outputs": []
    },
    {
      "cell_type": "markdown",
      "metadata": {
        "id": "yEOzCd-JDqEV",
        "colab_type": "text"
      },
      "source": [
        "### <font color=\"green\">Challenges</font> "
      ]
    },
    {
      "cell_type": "code",
      "metadata": {
        "id": "4YFd8fqkDxVV",
        "colab_type": "code",
        "colab": {}
      },
      "source": [
        "# Challenge 1\n",
        "# ---\n",
        "# Select a random sample of 5 items from the given list.\n",
        "# ---\n",
        "# OUR CODE GOES BELOW\n",
        "# \n",
        "\n",
        "# Creating our list \n",
        "# ---\n",
        "# \n",
        "cities = ['Nairobi', 'Amsterdam', 'Johannesburg', 'Port Louis', 'St. Petersburg', 'Warsaw', 'Cairo', 'Lyon']\n"
      ],
      "execution_count": 0,
      "outputs": []
    },
    {
      "cell_type": "code",
      "metadata": {
        "id": "pZi1FhLzGeH5",
        "colab_type": "code",
        "colab": {}
      },
      "source": [
        "# Challenge 2\n",
        "# ---\n",
        "# Select a random sample of 3 items with replacement from the given list.\n",
        "# ---\n",
        "# OUR CODE GOES BELOW\n",
        "# \n",
        "\n",
        "# Creating our list\n",
        "# ---\n",
        "#\n",
        "cities = ['Nairobi', 'Amsterdam', 'Johannesburg', 'Port Louis', 'St. Petersburg', 'Warsaw', 'Cairo', 'Lyon']"
      ],
      "execution_count": 0,
      "outputs": []
    },
    {
      "cell_type": "code",
      "metadata": {
        "id": "1UsVW_cZGd5O",
        "colab_type": "code",
        "colab": {}
      },
      "source": [
        "# Challenge 3\n",
        "# ---\n",
        "# Select a random sample of 100 records from the given dataset.\n",
        "# ---\n",
        "# Dataset url = https://bit.ly/2XUisQ4\n",
        "# ---\n",
        "# OUR CODE GOES BELOW\n",
        "# "
      ],
      "execution_count": 0,
      "outputs": []
    },
    {
      "cell_type": "markdown",
      "metadata": {
        "id": "E1pGyZZyC4L7",
        "colab_type": "text"
      },
      "source": [
        "## 2. Systematic Sampling"
      ]
    },
    {
      "cell_type": "markdown",
      "metadata": {
        "colab_type": "text",
        "id": "LtyPNQJrD21j"
      },
      "source": [
        "### Examples "
      ]
    },
    {
      "cell_type": "code",
      "metadata": {
        "colab_type": "code",
        "id": "7kUY73YXD21n",
        "colab": {}
      },
      "source": [
        "# Example 1\n",
        "# ---\n",
        "# We will use this example to demonstrate how we can perform systematic sampling.\n",
        "# This systematic sampling example in this notebook has been borrowed from \n",
        "# https://bit.ly/SamplingSourceLink with some modifications.\n",
        "# ---\n",
        "# Let's first recall abit of some theory. The idea of systematic sampling is that, \n",
        "# given the population units numbered from 1 to N, we compute for the sampling interval, \n",
        "# given by  k = N / n, where  n  is the number of units needed for the sample. \n",
        "# After that, we choose for the random start, number between  1  and  k. \n",
        "# This random start becomes the first sample, and then the second unit in the sample \n",
        "# is obtained by adding the sampling interval to the random start, and so on. \n",
        "# ---\n",
        "# There are two types of systematic sampling namely, linear and circular systematic sampling. \n",
        "# Circular systematic sampling treats the population units numbered from 1 to N in circular form,\n",
        "# such that if the increment step is more than the number of N units, say N + 2, \n",
        "# the sample unit is the 2nd element in the population, and so on. \n",
        "# The following code that we will use can be used both for linear and circular. \n",
        "# ---\n",
        "# Question: Perform systematic sampling given the following list.\n",
        "# ---\n",
        "#\n",
        " \n",
        "# The dataset that we will use a numpy array which means\n",
        "# we create our list then convert it to a numpy array as shown\n",
        "# ---\n",
        "# \n",
        "salary_data = [2500, 1500, 2000, 2500, 1800, 1200, 2400, 3000, 1500, 2000, 1000, 1000, 1100]\n",
        "salary_data = np.array(salary_data) \n",
        "\n",
        "# The function to used for systematic sampling\n",
        "# ---\n",
        "# \n",
        "def sys_sample(df, r, n):\n",
        "    k = df.shape[0] // n\n",
        "\n",
        "    b = [None] * n; a = r\n",
        "    b[0] = a\n",
        "\n",
        "    for i in np.arange(1, n):\n",
        "        a = a + k\n",
        "\n",
        "        if a > df.shape[0]:\n",
        "            a = a - df.shape[0]\n",
        "\n",
        "        b[i] = a\n",
        "\n",
        "    return {\"Sample data\" : df[b], \"Index/Position\" : b, \"K\" : k}\n",
        "\n",
        "\n",
        "# We then call our sampling function with the appropriate parameters\n",
        "# for random start, r = 2, and defining the number of samples, n = 4.\n",
        "# ---\n",
        "#  \n",
        "sys_sample(salary_data, r = 1, n = 4)"
      ],
      "execution_count": 0,
      "outputs": []
    },
    {
      "cell_type": "code",
      "metadata": {
        "id": "INKZfpBblUZU",
        "colab_type": "code",
        "colab": {}
      },
      "source": [
        "# Example 2\n",
        "# ---\n",
        "# Let's now work with a dataset by using the customer dataset we imported earlier.\n",
        "# ---\n",
        "\n",
        "# Then let's recreate the above function for systematic sampling\n",
        "# then tweak it abit by returning our sampled values\n",
        "\n",
        "def sys_sample(df, r, n):\n",
        "    k = df.shape[0] // n\n",
        "\n",
        "    b = [None] * n; a = r\n",
        "    b[0] = a\n",
        "\n",
        "    for i in np.arange(1, n):\n",
        "        a = a + k\n",
        "\n",
        "        if a > df.shape[0]:\n",
        "            a = a - df.shape[0]\n",
        "\n",
        "        b[i] = a\n",
        "\n",
        "    return spending_df[spending_df.index.isin(b)]  \n",
        "\n",
        "# Performing sampling for random start, r = 2, \n",
        "# and defining the number of samples, n = 4\n",
        "# ---\n",
        "# \n",
        "sys_sample(spending_df, r = 2, n = 4)"
      ],
      "execution_count": 0,
      "outputs": []
    },
    {
      "cell_type": "markdown",
      "metadata": {
        "colab_type": "text",
        "id": "J3wZkkhfD64z"
      },
      "source": [
        "### <font color=\"green\">Challenges</font> "
      ]
    },
    {
      "cell_type": "code",
      "metadata": {
        "colab_type": "code",
        "id": "7oL3QZoCD640",
        "colab": {}
      },
      "source": [
        "# Challenge 1\n",
        "# ---\n",
        "# Create a systematic sample from the following cities list. \n",
        "# ---\n",
        "# cities = ['Nairobi', 'Amsterdam', 'Johannesburg', 'Port Louis', 'St. Petersburg', 'Warsaw', 'Cairo', 'Lyon']\n",
        "# ---\n",
        "# OUR CODE GOES BELOW\n",
        "# "
      ],
      "execution_count": 0,
      "outputs": []
    },
    {
      "cell_type": "code",
      "metadata": {
        "id": "pL-bYo2jo0wr",
        "colab_type": "code",
        "colab": {}
      },
      "source": [
        "# Challenge 2\n",
        "# ---\n",
        "# Perfom systematic sampling on the following Rio City temperature.\n",
        "# ---\n",
        "# Dataset url = https://bit.ly/RioTemperature\n",
        "# ---\n",
        "# OUR CODE GOES BELOW\n",
        "# "
      ],
      "execution_count": 0,
      "outputs": []
    },
    {
      "cell_type": "markdown",
      "metadata": {
        "id": "9z813vHmDZ6W",
        "colab_type": "text"
      },
      "source": [
        "## 3. Stratified Sampling"
      ]
    },
    {
      "cell_type": "markdown",
      "metadata": {
        "colab_type": "text",
        "id": "CzbgkvsuECnI"
      },
      "source": [
        "### Examples "
      ]
    },
    {
      "cell_type": "code",
      "metadata": {
        "colab_type": "code",
        "id": "MrDx5R9LECnJ",
        "colab": {}
      },
      "source": [
        "# Example 1\n",
        "# ---\n",
        "# While performing stratified sampling, we can perform a sample a fraction \n",
        "# of each group as shown in this example:\n",
        "# ----\n",
        "# Dataset url = https://bit.ly/2WtrItx\n",
        "\n",
        "# Lets first import and preview our dataset\n",
        "# ---\n",
        "#\n",
        "df_customers = pd.read_csv('https://bit.ly/2y5CRYc')\n",
        "df_customers.head()"
      ],
      "execution_count": 0,
      "outputs": []
    },
    {
      "cell_type": "code",
      "metadata": {
        "id": "RUPKpQFiSRZQ",
        "colab_type": "code",
        "colab": {}
      },
      "source": [
        "# We then use groupby.apply() with sample as shown below.\n",
        "# In the process we use frac to define the fraction of our group we would like to get.\n",
        "# ---\n",
        "# \n",
        "df_customers.groupby('sex').apply(pd.DataFrame.sample, frac=.005)\n",
        "\n",
        "\n",
        "# Method 2\n",
        "# ---\n",
        "# Alternatively, if MultiIndex is not required, we may specify group_keys = False \n",
        "# to groupby and get our stratified sampling:\n",
        "# ---\n",
        "# df_customers.groupby('sex', group_keys = False).apply(pd.DataFrame.sample, frac=.005)"
      ],
      "execution_count": 0,
      "outputs": []
    },
    {
      "cell_type": "code",
      "metadata": {
        "id": "-bNTllXpP17w",
        "colab_type": "code",
        "colab": {}
      },
      "source": [
        "# Example 2\n",
        "# ---\n",
        "# If we would like to sample a fixed number of rows, \n",
        "# we can shuffle the DataFrame beforehand, then use the groupby().head()\n",
        "# ----\n",
        "# \n",
        "df_customers.sample(frac=1).groupby('sex').head(2)\n",
        "\n",
        "\n",
        "# Method 2\n",
        "# ---\n",
        "# df_customers.groupby('sex', group_keys=False).apply(pd.DataFrame.sample, n=2)"
      ],
      "execution_count": 0,
      "outputs": []
    },
    {
      "cell_type": "markdown",
      "metadata": {
        "colab_type": "text",
        "id": "caeBSG23D9qn"
      },
      "source": [
        "### <font color=\"green\">Challenges</font> "
      ]
    },
    {
      "cell_type": "code",
      "metadata": {
        "id": "vo5Cd9AOXH4I",
        "colab_type": "code",
        "colab": {}
      },
      "source": [
        "# Challenge\n",
        "# ---\n",
        "# Question: Going through a Airbus' restaurants sales datset, you would like to perform \n",
        "# data analysis to understand the customers better. Select stratified samples of \n",
        "# a fraction of records and of a fixed number of records using the following \n",
        "# dataset based on day.\n",
        "# ---\n",
        "# Dataset url = https://bit.ly/AirlinePassDataset\n",
        "# ---\n",
        "# OUR CODE GOES BELOW\n",
        "# "
      ],
      "execution_count": 0,
      "outputs": []
    },
    {
      "cell_type": "markdown",
      "metadata": {
        "id": "bui-wArzDV7y",
        "colab_type": "text"
      },
      "source": [
        "## 4. Cluster Sampling"
      ]
    },
    {
      "cell_type": "markdown",
      "metadata": {
        "colab_type": "text",
        "id": "UcmvzSgNEB_h"
      },
      "source": [
        "### Examples "
      ]
    },
    {
      "cell_type": "code",
      "metadata": {
        "id": "J3ZOzrx7wcPq",
        "colab_type": "code",
        "colab": {}
      },
      "source": [
        "# Example 1\n",
        "# ---\n",
        "# There are many solutions ways to performing cluster sampling.\n",
        "# In this example, we will be using one of the most popular methods \n",
        "# of performing cluster sampling which is the use of the K-Means Algorithm \n",
        "# ---\n",
        "# This algorithm will partion our data into k clusters such that data points \n",
        "# in the same cluster are similar, and data points in the different \n",
        "# clusters are away from each other. The value of k would be the \n",
        "# no. of clusters/samples we intend to have. \n",
        "# ---\n",
        "#\n",
        "\n",
        "# Let's first import our algorithm \n",
        "# ---\n",
        "# \n",
        "from sklearn.cluster import KMeans "
      ],
      "execution_count": 0,
      "outputs": []
    },
    {
      "cell_type": "code",
      "metadata": {
        "id": "JzZCuFyYwijA",
        "colab_type": "code",
        "colab": {}
      },
      "source": [
        "# Then import the dataset that we would like to create a cluster sample from.\n",
        "# ---\n",
        "# Dataset url = https://bit.ly/RioTemperature\n",
        "\n",
        "# This dataset contains telecom subscribers data.\n",
        "# ---\n",
        "# \n",
        "rio_temp_df = pd.read_csv('https://bit.ly/RioTemperature')\n",
        "rio_temp_df.head()"
      ],
      "execution_count": 0,
      "outputs": []
    },
    {
      "cell_type": "code",
      "metadata": {
        "id": "XnzyNrsz4_oF",
        "colab_type": "code",
        "colab": {}
      },
      "source": [
        "# We then select the data that we would like to work with.\n",
        "# The following code will select all the values and store them in\n",
        "# an array containing a feature matrix that we will pass it \n",
        "# to our Kmeans algorithm for clustering.\n",
        "# ---\n",
        "# This is the format that our algorithm will accept.\n",
        "# ---\n",
        "# \n",
        "X = rio_temp_df.iloc[:,].values\n",
        "\n",
        "# Let's preview our resulting data. \n",
        "# We can make comparisons with the previewed data in the previous cell.\n",
        "# ---\n",
        "# \n",
        "X"
      ],
      "execution_count": 0,
      "outputs": []
    },
    {
      "cell_type": "code",
      "metadata": {
        "id": "n1Zb0--Pwp7M",
        "colab_type": "code",
        "colab": {}
      },
      "source": [
        "# Lets now create the K-means clusterer that we will use to perform cluster sampling. \n",
        "# Because we want two clusters, we pass 2 to the clusterer. \n",
        "# In addition we set random_state = 1, if we would like to reproduce results \n",
        "# at some later point in time. For further info about K-means, we can refer its documentation\n",
        "# by following this link: https://bit.ly/2To6GKN. This will be useful \n",
        "# to explore other model parameters that you'll get to see as an output of this cell.\n",
        "# ---\n",
        "# \n",
        "clusterer = KMeans(3, random_state=1)\n",
        "\n",
        "# Then passing our data the clusterer\n",
        "# ---\n",
        "# \n",
        "clusterer.fit(X)"
      ],
      "execution_count": 0,
      "outputs": []
    },
    {
      "cell_type": "code",
      "metadata": {
        "id": "ydrzqmF4wwSr",
        "colab_type": "code",
        "colab": {}
      },
      "source": [
        "# We then use the predict method to return the cluster that each data point \n",
        "# belongs to and then store this in a new column of our dataframe.\n",
        "# ---\n",
        "# \n",
        "rio_temp_df['cluster_group'] = clusterer.predict(X)"
      ],
      "execution_count": 0,
      "outputs": []
    },
    {
      "cell_type": "code",
      "metadata": {
        "id": "iPOsMlKTXcvc",
        "colab_type": "code",
        "colab": {}
      },
      "source": [
        "# We then sample our dataset to check for the assigned clustering groups 0, 1 and 2\n",
        "# If we don't get to see these clusters, we can run the code again to get another set of records.\n",
        "# ---\n",
        "#\n",
        "rio_temp_df.sample(10)"
      ],
      "execution_count": 0,
      "outputs": []
    },
    {
      "cell_type": "code",
      "metadata": {
        "colab_type": "code",
        "id": "-kNRyxltEB_i",
        "colab": {}
      },
      "source": [
        "# To preview the records in our first cluster which is cluster 0 we can do the following:\n",
        "# ---\n",
        "# \n",
        "first_cluster = rio_temp_df[rio_temp_df.cluster_group.isin([0])]\n",
        "first_cluster.head()"
      ],
      "execution_count": 0,
      "outputs": []
    },
    {
      "cell_type": "code",
      "metadata": {
        "id": "ZjlFEQ-FS6db",
        "colab_type": "code",
        "colab": {}
      },
      "source": [
        "# To preview the records in our second cluster which is cluster 1, we can do the following;\n",
        "# ---\n",
        "#\n",
        "second_cluster = rio_temp_df[rio_temp_df.cluster_group.isin([1])]\n",
        "second_cluster.head()"
      ],
      "execution_count": 0,
      "outputs": []
    },
    {
      "cell_type": "code",
      "metadata": {
        "id": "a7RlLUj2XHiR",
        "colab_type": "code",
        "colab": {}
      },
      "source": [
        "# We can preview the records in our third cluster which is cluster 2 as shown below:\n",
        "# ---\n",
        "# Side note: If you investigate this cluster, and compare it with the other clusters \n",
        "# you might even think this is a cluster of outliers owing to the large values across our features.\n",
        "# ---\n",
        "#\n",
        "third_cluster = rio_temp_df[rio_temp_df.cluster_group.isin([2])]\n",
        "third_cluster.head()"
      ],
      "execution_count": 0,
      "outputs": []
    },
    {
      "cell_type": "markdown",
      "metadata": {
        "colab_type": "text",
        "id": "hqXRbdPPD8lt"
      },
      "source": [
        "### <font color=\"green\">Challenges</font> "
      ]
    },
    {
      "cell_type": "code",
      "metadata": {
        "colab_type": "code",
        "id": "0TM7SJLKD8lu",
        "colab": {}
      },
      "source": [
        "# Challenge 1\n",
        "# ---\n",
        "# Perform cluster sampling on the following sales dataset. \n",
        "# ---\n",
        "# Dataset url = https://bit.ly/2zYvxy0\n",
        "# ---\n",
        "# OUR CODE GOES BELOW\n",
        "#  "
      ],
      "execution_count": 0,
      "outputs": []
    },
    {
      "cell_type": "code",
      "metadata": {
        "id": "6dE3ZRRPfXuu",
        "colab_type": "code",
        "colab": {}
      },
      "source": [
        "# Challenge 2\n",
        "# ---  \n",
        "# Use your knowledge and the above example to perform cluster sampling \n",
        "# on the following python list. Create two clusters.\n",
        "# ---\n",
        "# age_list = [10, 15, 20, 25, 30, 35, 40, 45, 50, 55]\n",
        "# ---\n",
        "# OUR CODE GOES BELOW\n",
        "# "
      ],
      "execution_count": 0,
      "outputs": []
    }
  ]
}
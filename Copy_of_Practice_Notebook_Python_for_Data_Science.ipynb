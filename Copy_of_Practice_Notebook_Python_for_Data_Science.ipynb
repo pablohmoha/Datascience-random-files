{
  "nbformat": 4,
  "nbformat_minor": 0,
  "metadata": {
    "colab": {
      "name": "Copy of Practice_Notebook_Python_for_Data_Science.ipynb",
      "provenance": [],
      "collapsed_sections": [
        "jD-9Sma-ruMm",
        "1KGAN1h-rhUT",
        "6mfDGqy38176",
        "BDggmS7ur3Wg",
        "Am56-sCnr6vi",
        "5enr7YOCsGiO",
        "czwZIoMP8yq2",
        "UVhxQgFF8KI_",
        "vRf4lpd38TE8",
        "dbS8kM4M8Vga",
        "DJeVFrBtw_kA",
        "wp_BS7DmxDcu",
        "aFlF1bDQxHQO",
        "_Czt2xj3xKtQ",
        "apQZLg4WxQaT",
        "5Kk6d63OxVQo",
        "figZW-P0xWHu",
        "QhEXtwvIxZhP",
        "prYpRrXsxbRX",
        "AZaNOe10xhBd",
        "KoqcSYwQxtRK",
        "b93FPbs0xuLv",
        "oPUu3IMexvkM",
        "TsVuSiuK9vLo",
        "AX1eFoHBxioZ",
        "xN0KYDlrxjzF",
        "LWRbnoj5xlT9",
        "qOcy-X35HV_t",
        "HX5OKWTeH3y7",
        "V3vakOO6H9Vh",
        "RMTv6MI1IIT_",
        "HHygJvHMIPgh",
        "EqUWEUsNINyj",
        "ExGMoK-pIb8p",
        "ZfjZLNgMIeYh",
        "GjfFmzfjIfZO",
        "dqhVm_8kN2tl",
        "VtTVm3cvN_lP",
        "qIxhQwTHOIjm",
        "JdKpybEFOJOM",
        "XJoETlR_OKHt",
        "8w3U0HVEOccy",
        "hDZ9eDtmOgLi",
        "SxIaU06sOuYQ",
        "GuR57OHgOBnM",
        "eaq4UrFLONmb",
        "bSurXHq_OOjc",
        "hnyRRASVOPq4",
        "okwTjEZ_PCiN",
        "80kHsk0gQiX5",
        "r6CjXb92QsKs",
        "_We_Aif3Q_n5",
        "sVrIv1ucRAtY",
        "xaLN8jeYRDll",
        "dGKEWiBwTVFM",
        "WnXWTn9WTaJs",
        "96-FMInjQs5S",
        "z9M2LwKAQvN_",
        "fnRxw0qjQ1aZ",
        "HA99lKmhQ68W",
        "z7mA-mghTmOc",
        "qcpLR3a_XPLd",
        "EnaCUxpRXT0J",
        "ZX5LhYDuXV2O",
        "7vliBrC5Xk65",
        "0xG8q15EXnW_",
        "2gYk4uIZYFKf",
        "7vPUGzblYGj1",
        "IhBdAGNeXa9N",
        "kBHUUpINXev4",
        "Xk2YcqtKXgiL",
        "hdEWP1SNnFHp",
        "_TGroESwnRos",
        "TbJ6OFKqnUTy",
        "HxuW_VVCnVgw",
        "8LarnuTTnalz",
        "VSxz3OK9nb4P",
        "_xf8ei3mnc3-",
        "C4tY9xM-n6jP",
        "qxG8RHFnniJT",
        "dQlkT13Gnjid",
        "6Pdl8p-QnmN1",
        "93yfMyQWnovw",
        "6T7Z10zUnquf",
        "l4aSf1SQnsIc",
        "wW6zZPzHpPkw",
        "Tj7-43EzpXKP",
        "9CbPFikcpb65",
        "8TToTfDxpcsC",
        "O0n2jmlupeUe",
        "uBJfTBcDpooj",
        "xVpVBXPkprnS",
        "05xi5W5kpsYM",
        "wtPFkTZCptbR",
        "lY-G45bwqiq8",
        "pZnqvIFlqrcF",
        "iO82jGS5qwik",
        "iU4HK7hrqiMO",
        "UoUvopuiqz1A",
        "_BlOlAaNq4Aj",
        "yDuSe7aAq56q",
        "m4u98nWIq76h",
        "rYrnAuYBryYC",
        "WOi0gv2Dr83t",
        "GgSYzCUYsCWG",
        "-bAG0iH2sDiV",
        "47gh_27esFHZ",
        "m1FOyDx-r_C_",
        "PgsptduxsKGg",
        "88bM7tZ2sLI4",
        "E_kcos-EsMTo",
        "jpvE6cqosOFe"
      ],
      "toc_visible": true,
      "include_colab_link": true
    },
    "kernelspec": {
      "name": "python3",
      "display_name": "Python 3"
    }
  },
  "cells": [
    {
      "cell_type": "markdown",
      "metadata": {
        "id": "view-in-github",
        "colab_type": "text"
      },
      "source": [
        "<a href=\"https://colab.research.google.com/github/pablohmoha/Datascience-random-files/blob/master/Copy_of_Practice_Notebook_Python_for_Data_Science.ipynb\" target=\"_parent\"><img src=\"https://colab.research.google.com/assets/colab-badge.svg\" alt=\"Open In Colab\"/></a>"
      ]
    },
    {
      "cell_type": "markdown",
      "metadata": {
        "id": "O1ZGC3xPs0Ta",
        "colab_type": "text"
      },
      "source": [
        "<font color=\"blue\">To use this notebook on Colaboratory, you will need to make a copy of it. Go to File > Save a Copy in Drive. You can then use the new copy that will appear in the new tab.</font>\n"
      ]
    },
    {
      "cell_type": "markdown",
      "metadata": {
        "id": "jD-9Sma-ruMm",
        "colab_type": "text"
      },
      "source": [
        "# 1. Comments, Variables and Printing"
      ]
    },
    {
      "cell_type": "markdown",
      "metadata": {
        "id": "1KGAN1h-rhUT",
        "colab_type": "text"
      },
      "source": [
        "## 1. Comments"
      ]
    },
    {
      "cell_type": "markdown",
      "metadata": {
        "id": "6mfDGqy38176",
        "colab_type": "text"
      },
      "source": [
        "#### <font color=\"blue\">Examples</font>"
      ]
    },
    {
      "cell_type": "markdown",
      "metadata": {
        "id": "BDggmS7ur3Wg",
        "colab_type": "text"
      },
      "source": [
        "##### <font color=\"blue\">Example 1:</font> Single Line Comments"
      ]
    },
    {
      "cell_type": "code",
      "metadata": {
        "id": "Chy3pmP9r9Ch",
        "colab_type": "code",
        "colab": {}
      },
      "source": [
        "# This is a single line comment. We use the hash character to indicate the following single line content are comments.\n",
        "score = 56 "
      ],
      "execution_count": 0,
      "outputs": []
    },
    {
      "cell_type": "markdown",
      "metadata": {
        "id": "Am56-sCnr6vi",
        "colab_type": "text"
      },
      "source": [
        "##### <font color=\"blue\">Example 2:</font> Multiple Line Comments - Method 1"
      ]
    },
    {
      "cell_type": "code",
      "metadata": {
        "id": "i4mALMPGr2Ad",
        "colab_type": "code",
        "colab": {}
      },
      "source": [
        "'''\n",
        "This is a multiline comment. \n",
        "We use the delimiter characters to indicate that \n",
        "the following multi line content are comments.\n",
        "'''\n",
        "score = 53"
      ],
      "execution_count": 0,
      "outputs": []
    },
    {
      "cell_type": "markdown",
      "metadata": {
        "id": "5enr7YOCsGiO",
        "colab_type": "text"
      },
      "source": [
        "##### <font color=\"blue\">Example 3:</font> Multiple Line Comments - Method 2"
      ]
    },
    {
      "cell_type": "code",
      "metadata": {
        "id": "jLWLFxn5sVnD",
        "colab_type": "code",
        "colab": {}
      },
      "source": [
        "# ---\n",
        "# This is a multiline comment. \n",
        "# We can also use multiple hash characters to comment on \n",
        "# a block of content just as shown in this example.\n",
        "# We will be using this method of commenting to \n",
        "# provide more information about the exercises \n",
        "# and challenges within this course.\n",
        "# ---\n",
        "\n",
        "score = 53"
      ],
      "execution_count": 0,
      "outputs": []
    },
    {
      "cell_type": "markdown",
      "metadata": {
        "id": "czwZIoMP8yq2",
        "colab_type": "text"
      },
      "source": [
        "#### <font color=\"green\">Challenges</font> "
      ]
    },
    {
      "cell_type": "markdown",
      "metadata": {
        "id": "UVhxQgFF8KI_",
        "colab_type": "text"
      },
      "source": [
        "##### <font color=\"green\">Challenge 1:</font> Explain the following code using a single line comment."
      ]
    },
    {
      "cell_type": "code",
      "metadata": {
        "id": "EXZ0jzkw8N3Z",
        "colab_type": "code",
        "colab": {}
      },
      "source": [
        "# The following line has the code tree = 5\n",
        "tree = 5"
      ],
      "execution_count": 0,
      "outputs": []
    },
    {
      "cell_type": "markdown",
      "metadata": {
        "id": "vRf4lpd38TE8",
        "colab_type": "text"
      },
      "source": [
        "##### <font color=\"green\">Challenge 2:</font> Explain the following code using multiple line comments (using delimiters)"
      ]
    },
    {
      "cell_type": "code",
      "metadata": {
        "id": "C4eWE7xS8U9m",
        "colab_type": "code",
        "colab": {}
      },
      "source": [
        "'''\n",
        "Sum of 5\n",
        "tree = 5 + 4 "
      ],
      "execution_count": 0,
      "outputs": []
    },
    {
      "cell_type": "markdown",
      "metadata": {
        "id": "dbS8kM4M8Vga",
        "colab_type": "text"
      },
      "source": [
        "##### <font color=\"green\">Challenge 3: </font> Explain the following code using multiple line comments (Using Single line comments)"
      ]
    },
    {
      "cell_type": "code",
      "metadata": {
        "id": "Zefh_ZEV8Wzk",
        "colab_type": "code",
        "colab": {}
      },
      "source": [
        "tree = 5 + 5"
      ],
      "execution_count": 0,
      "outputs": []
    },
    {
      "cell_type": "markdown",
      "metadata": {
        "id": "DJeVFrBtw_kA",
        "colab_type": "text"
      },
      "source": [
        "## 2. Variables"
      ]
    },
    {
      "cell_type": "markdown",
      "metadata": {
        "id": "wp_BS7DmxDcu",
        "colab_type": "text"
      },
      "source": [
        "#### <font color=\"blue\">Examples</font>"
      ]
    },
    {
      "cell_type": "markdown",
      "metadata": {
        "id": "aFlF1bDQxHQO",
        "colab_type": "text"
      },
      "source": [
        "##### <font color=\"blue\">Example 1</font>"
      ]
    },
    {
      "cell_type": "code",
      "metadata": {
        "id": "XPERUCVo5aTx",
        "colab_type": "code",
        "colab": {}
      },
      "source": [
        "# Example 1\n",
        "# ---\n",
        "# Question: Assign the value 10 to the variable a.\n",
        "# ---\n",
        "# OUR CODE GOES BELOW\n",
        "#\n",
        "\n",
        "a = 10\n",
        "\n",
        "\n",
        "name = \"Valentine\""
      ],
      "execution_count": 0,
      "outputs": []
    },
    {
      "cell_type": "markdown",
      "metadata": {
        "id": "_Czt2xj3xKtQ",
        "colab_type": "text"
      },
      "source": [
        "##### <font color=\"blue\">Example 2</font> "
      ]
    },
    {
      "cell_type": "code",
      "metadata": {
        "id": "u6IDQwRc5bWn",
        "colab_type": "code",
        "colab": {}
      },
      "source": [
        "# Example 2\n",
        "# ---\n",
        "# Question: Assign the name Susan to the variable name.\n",
        "# ---\n",
        "# OUR CODE GOES BELOW\n",
        "#\n",
        "\n",
        "sister, brother = \"Susan\", \"Paul\""
      ],
      "execution_count": 0,
      "outputs": []
    },
    {
      "cell_type": "markdown",
      "metadata": {
        "id": "apQZLg4WxQaT",
        "colab_type": "text"
      },
      "source": [
        "##### <font color=\"blue\">Example 3</font> "
      ]
    },
    {
      "cell_type": "code",
      "metadata": {
        "id": "pO96_Ivb5cHT",
        "colab_type": "code",
        "colab": {}
      },
      "source": [
        "# Example 3\n",
        "# ---\n",
        "# Question: Assign the value [\"one\", 2, [\"three\"]] to the variable numbers\n",
        "# ---\n",
        "# OUR CODE GOES BELOW\n",
        "#\n",
        "\n",
        "numbers = [\"one\", 2, [\"three\"]] "
      ],
      "execution_count": 0,
      "outputs": []
    },
    {
      "cell_type": "markdown",
      "metadata": {
        "id": "5Kk6d63OxVQo",
        "colab_type": "text"
      },
      "source": [
        "#### <font color=\"green\">Challenges</font> "
      ]
    },
    {
      "cell_type": "markdown",
      "metadata": {
        "id": "figZW-P0xWHu",
        "colab_type": "text"
      },
      "source": [
        "##### <font color=\"green\">Challenge 1</font>"
      ]
    },
    {
      "cell_type": "code",
      "metadata": {
        "id": "9mCpedG0xcfs",
        "colab_type": "code",
        "colab": {}
      },
      "source": [
        "# Challenge 1\n",
        "# ---\n",
        "# Question: Assign the your last name to the variable last_name.\n",
        "# ---\n",
        "# YOUR CODE GOES BELOW\n",
        "#\n",
        "\n",
        "last_name = \"Muhia\"\n"
      ],
      "execution_count": 0,
      "outputs": []
    },
    {
      "cell_type": "markdown",
      "metadata": {
        "id": "QhEXtwvIxZhP",
        "colab_type": "text"
      },
      "source": [
        "##### <font color=\"green\">Challenge 2</font>"
      ]
    },
    {
      "cell_type": "code",
      "metadata": {
        "id": "SRG0iMPQxdHT",
        "colab_type": "code",
        "colab": {}
      },
      "source": [
        "# Challenge 2\n",
        "# ---\n",
        "# Question: Assign your final highschool grade to the variable highschool_grade.\n",
        "# ---\n",
        "# YOUR CODE GOES BELOW\n",
        "#\n",
        "\n",
        "highschool_grade = 1234567"
      ],
      "execution_count": 0,
      "outputs": []
    },
    {
      "cell_type": "markdown",
      "metadata": {
        "id": "prYpRrXsxbRX",
        "colab_type": "text"
      },
      "source": [
        "##### <font color=\"green\">Challenge 3</font>"
      ]
    },
    {
      "cell_type": "code",
      "metadata": {
        "id": "PZVa_y3axdzn",
        "colab_type": "code",
        "colab": {}
      },
      "source": [
        "# Challenge 3\n",
        "# ---\n",
        "# Question: Assign the dictionary { \"brand\": \"Toyota\", \"model\": \"Wish\", \"year\": 2005 } \n",
        "# to the variable cars.\n",
        "# ---\n",
        "# YOUR CODE GOES BELOW\n",
        "#\n",
        "\n",
        "cars = {\"brand\": \"Toyota\", \"model\": \"Wish\", \"year\": 2005}\n"
      ],
      "execution_count": 0,
      "outputs": []
    },
    {
      "cell_type": "markdown",
      "metadata": {
        "id": "AZaNOe10xhBd",
        "colab_type": "text"
      },
      "source": [
        "## 3. Printing"
      ]
    },
    {
      "cell_type": "markdown",
      "metadata": {
        "id": "KoqcSYwQxtRK",
        "colab_type": "text"
      },
      "source": [
        "##### <font color=\"blue\">Example 1</font> "
      ]
    },
    {
      "cell_type": "code",
      "metadata": {
        "id": "ai3ZxHpcxw-J",
        "colab_type": "code",
        "colab": {}
      },
      "source": [
        "# Example 1\n",
        "# ---\n",
        "# Question: Printing the text hello in our output console\n",
        "# ---\n",
        "# OUR CODE GOES BELOW\n",
        "#\n",
        "\n",
        "print(\"Hello!\")"
      ],
      "execution_count": 0,
      "outputs": []
    },
    {
      "cell_type": "markdown",
      "metadata": {
        "id": "b93FPbs0xuLv",
        "colab_type": "text"
      },
      "source": [
        "##### <font color=\"blue\">Example 2</font> "
      ]
    },
    {
      "cell_type": "code",
      "metadata": {
        "id": "HM9ouOKxxxh1",
        "colab_type": "code",
        "colab": {}
      },
      "source": [
        "# Example 2\n",
        "# ---\n",
        "# Question: Printing the text Hello Valentine and putting a seperator.\n",
        "# ---\n",
        "# OUR CODE GOES BELOW\n",
        "#\n",
        "\n",
        "print(\"Hello\", \"Valentine!\", sep=\"-\")"
      ],
      "execution_count": 0,
      "outputs": []
    },
    {
      "cell_type": "markdown",
      "metadata": {
        "id": "oPUu3IMexvkM",
        "colab_type": "text"
      },
      "source": [
        "##### <font color=\"blue\">Example 3</font> "
      ]
    },
    {
      "cell_type": "code",
      "metadata": {
        "id": "4f4aOFsExyJa",
        "colab_type": "code",
        "colab": {}
      },
      "source": [
        "# Example 3 \n",
        "# ---\n",
        "# Question: Printing the following dictionary colors = {'red', 'green', 'blue'}\n",
        "# ---\n",
        "# OUR CODE GOES BELOW\n",
        "# \n",
        "\n",
        "colors = {'red', 'green', 'blue'}\n",
        "colors"
      ],
      "execution_count": 0,
      "outputs": []
    },
    {
      "cell_type": "markdown",
      "metadata": {
        "id": "TsVuSiuK9vLo",
        "colab_type": "text"
      },
      "source": [
        "#### <font color=\"green\">Challenges</font> "
      ]
    },
    {
      "cell_type": "markdown",
      "metadata": {
        "id": "AX1eFoHBxioZ",
        "colab_type": "text"
      },
      "source": [
        "##### <font color=\"green\">Challenge 1</font>"
      ]
    },
    {
      "cell_type": "code",
      "metadata": {
        "id": "h5d4FLXDxmd4",
        "colab_type": "code",
        "colab": {
          "base_uri": "https://localhost:8080/",
          "height": 35
        },
        "outputId": "ca47ce90-a83b-4a14-9a7b-e255602a398d"
      },
      "source": [
        "# Challenge 1\n",
        "# ---\n",
        "# Question: Using the print function print out your last name\n",
        "# ---\n",
        "# YOUR CODE GOES BELOW\n",
        "# \n",
        "\n",
        "print(\"muhia\")\n"
      ],
      "execution_count": 6,
      "outputs": [
        {
          "output_type": "stream",
          "text": [
            "muhia\n"
          ],
          "name": "stdout"
        }
      ]
    },
    {
      "cell_type": "markdown",
      "metadata": {
        "id": "xN0KYDlrxjzF",
        "colab_type": "text"
      },
      "source": [
        "##### <font color=\"green\">Challenge 2</font>"
      ]
    },
    {
      "cell_type": "code",
      "metadata": {
        "id": "j3A29Of8xnEG",
        "colab_type": "code",
        "colab": {
          "base_uri": "https://localhost:8080/",
          "height": 35
        },
        "outputId": "d90981ee-797b-4349-adf8-beb3930158f0"
      },
      "source": [
        "# Challenge 2\n",
        "# ---\n",
        "# Question: Print out the your full names below seperated by spaces\n",
        "# ---\n",
        "# YOUR CODE GOES BELOW\n",
        "# \n",
        "print(\"paul\", \"muhia\", sep=\" \")"
      ],
      "execution_count": 7,
      "outputs": [
        {
          "output_type": "stream",
          "text": [
            "paul muhia\n"
          ],
          "name": "stdout"
        }
      ]
    },
    {
      "cell_type": "markdown",
      "metadata": {
        "id": "LWRbnoj5xlT9",
        "colab_type": "text"
      },
      "source": [
        "##### <font color=\"green\">Challenge 3</font>"
      ]
    },
    {
      "cell_type": "code",
      "metadata": {
        "id": "6V99ewapxnjz",
        "colab_type": "code",
        "colab": {
          "base_uri": "https://localhost:8080/",
          "height": 35
        },
        "outputId": "c0e98646-7490-43f3-9ae4-667983bdc1a8"
      },
      "source": [
        "# Challenge 3\n",
        "# ---\n",
        "# Question: Store the values 400 and \"Employees\" in the variables x and y \n",
        "# then print out these two variables.\n",
        "# ---\n",
        "# YOUR CODE GOES BELOW\n",
        "# \n",
        "x = 400\n",
        "y = \"Employees\"\n",
        "print(x,y)"
      ],
      "execution_count": 8,
      "outputs": [
        {
          "output_type": "stream",
          "text": [
            "400 Employees\n"
          ],
          "name": "stdout"
        }
      ]
    },
    {
      "cell_type": "markdown",
      "metadata": {
        "id": "qOcy-X35HV_t",
        "colab_type": "text"
      },
      "source": [
        "# 2. Arithmetic Operators"
      ]
    },
    {
      "cell_type": "markdown",
      "metadata": {
        "id": "HX5OKWTeH3y7",
        "colab_type": "text"
      },
      "source": [
        "#### <font color=\"blue\">Examples</font>"
      ]
    },
    {
      "cell_type": "markdown",
      "metadata": {
        "id": "V3vakOO6H9Vh",
        "colab_type": "text"
      },
      "source": [
        "##### <font color=\"blue\">Example 1"
      ]
    },
    {
      "cell_type": "code",
      "metadata": {
        "id": "LzONiSsfHAmy",
        "colab_type": "code",
        "colab": {
          "base_uri": "https://localhost:8080/",
          "height": 35
        },
        "outputId": "7eae21a2-bfd2-4d8b-ab90-981c1847226f"
      },
      "source": [
        "# Example 1\n",
        "# ---\n",
        "# Let's perform an addition operation below\n",
        "# ---\n",
        "# \n",
        "\n",
        "# Declare our variables\n",
        "a = 20\n",
        "b = 16\n",
        "\n",
        "# Addition\n",
        "c = a + b\n",
        "\n",
        "# Printing out our results\n",
        "print(c)"
      ],
      "execution_count": 9,
      "outputs": [
        {
          "output_type": "stream",
          "text": [
            "36\n"
          ],
          "name": "stdout"
        }
      ]
    },
    {
      "cell_type": "markdown",
      "metadata": {
        "id": "RMTv6MI1IIT_",
        "colab_type": "text"
      },
      "source": [
        "##### <font color=\"blue\">Example 2"
      ]
    },
    {
      "cell_type": "code",
      "metadata": {
        "id": "JPCyGVKjICxP",
        "colab_type": "code",
        "colab": {
          "base_uri": "https://localhost:8080/",
          "height": 35
        },
        "outputId": "b1fe337f-10ad-461a-e441-a3dbee005479"
      },
      "source": [
        "# Example 2\n",
        "# ---\n",
        "# Performing a division operation\n",
        "# ---\n",
        "# \n",
        "d = a / b\n",
        "\n",
        "# Printing out our result\n",
        "print(d)"
      ],
      "execution_count": 10,
      "outputs": [
        {
          "output_type": "stream",
          "text": [
            "1.25\n"
          ],
          "name": "stdout"
        }
      ]
    },
    {
      "cell_type": "markdown",
      "metadata": {
        "id": "HHygJvHMIPgh",
        "colab_type": "text"
      },
      "source": [
        "##### <font color=\"blue\">Example 3"
      ]
    },
    {
      "cell_type": "code",
      "metadata": {
        "id": "FFONu-_VIO1k",
        "colab_type": "code",
        "colab": {
          "base_uri": "https://localhost:8080/",
          "height": 35
        },
        "outputId": "30654c9c-93ef-418e-dba0-fe0ce45e34b8"
      },
      "source": [
        "# Example 3\n",
        "# ---\n",
        "# Using the increment operator to perform a = a + b \n",
        "# ---\n",
        "# \n",
        "\n",
        "# Using the increment operator\n",
        "a += b\n",
        "\n",
        "# Printing out our result\n",
        "print(a)"
      ],
      "execution_count": 11,
      "outputs": [
        {
          "output_type": "stream",
          "text": [
            "36\n"
          ],
          "name": "stdout"
        }
      ]
    },
    {
      "cell_type": "markdown",
      "metadata": {
        "id": "EqUWEUsNINyj",
        "colab_type": "text"
      },
      "source": [
        "#### <font color=\"green\">Challenges</font> "
      ]
    },
    {
      "cell_type": "markdown",
      "metadata": {
        "id": "ExGMoK-pIb8p",
        "colab_type": "text"
      },
      "source": [
        "##### <font color=\"green\">Challenge 1</font>"
      ]
    },
    {
      "cell_type": "code",
      "metadata": {
        "id": "DnfLaMI-IhDi",
        "colab_type": "code",
        "colab": {
          "base_uri": "https://localhost:8080/",
          "height": 35
        },
        "outputId": "9ec486a0-8c21-4da9-c54d-d38cb5690092"
      },
      "source": [
        "# Challenge 1\n",
        "# ---\n",
        "# Question: Subtract b from a using the above declared variables\n",
        "# ---\n",
        "# \n",
        "a = 20\n",
        "b = 16\n",
        "c = a - b\n",
        "print(a - b)"
      ],
      "execution_count": 13,
      "outputs": [
        {
          "output_type": "stream",
          "text": [
            "4\n"
          ],
          "name": "stdout"
        }
      ]
    },
    {
      "cell_type": "markdown",
      "metadata": {
        "id": "ZfjZLNgMIeYh",
        "colab_type": "text"
      },
      "source": [
        "##### <font color=\"green\">Challenge 2</font>"
      ]
    },
    {
      "cell_type": "code",
      "metadata": {
        "id": "gUZE2lrcIhXi",
        "colab_type": "code",
        "colab": {
          "base_uri": "https://localhost:8080/",
          "height": 35
        },
        "outputId": "c9a63d44-653d-4fd8-fb43-cff8cbfae81b"
      },
      "source": [
        "# Challenge 2\n",
        "# ---\n",
        "# Question: Muplitiply a and b variables\n",
        "# ---\n",
        "# \n",
        "\n",
        "print(a*b)\n"
      ],
      "execution_count": 15,
      "outputs": [
        {
          "output_type": "stream",
          "text": [
            "320\n"
          ],
          "name": "stdout"
        }
      ]
    },
    {
      "cell_type": "markdown",
      "metadata": {
        "id": "GjfFmzfjIfZO",
        "colab_type": "text"
      },
      "source": [
        "##### <font color=\"green\">Challenge 3</font>"
      ]
    },
    {
      "cell_type": "code",
      "metadata": {
        "id": "8KDbHHs2IhuL",
        "colab_type": "code",
        "colab": {
          "base_uri": "https://localhost:8080/",
          "height": 35
        },
        "outputId": "74f0b673-d157-47d7-910e-dec2e7a802ba"
      },
      "source": [
        "# Challenge 3 \n",
        "# ---\n",
        "# Question: Using the decrement operator to perform a = a - b \n",
        "# ---\n",
        "# \n",
        "a -= b\n",
        "print(a)"
      ],
      "execution_count": 17,
      "outputs": [
        {
          "output_type": "stream",
          "text": [
            "-12\n"
          ],
          "name": "stdout"
        }
      ]
    },
    {
      "cell_type": "markdown",
      "metadata": {
        "id": "dqhVm_8kN2tl",
        "colab_type": "text"
      },
      "source": [
        "# 3. Data Types"
      ]
    },
    {
      "cell_type": "markdown",
      "metadata": {
        "id": "VtTVm3cvN_lP",
        "colab_type": "text"
      },
      "source": [
        "#### <font color=\"blue\">Examples</font>"
      ]
    },
    {
      "cell_type": "markdown",
      "metadata": {
        "id": "qIxhQwTHOIjm",
        "colab_type": "text"
      },
      "source": [
        "##### <font color=\"blue\">Example 1"
      ]
    },
    {
      "cell_type": "code",
      "metadata": {
        "id": "n7APi3z1NtN0",
        "colab_type": "code",
        "colab": {
          "base_uri": "https://localhost:8080/",
          "height": 71
        },
        "outputId": "e7c2db3c-9925-4a82-d795-94177bde4d20"
      },
      "source": [
        "# Example 1\n",
        "# ---\n",
        "# Dynamically-inferred types\n",
        "# ---\n",
        "#\n",
        "x = 20\n",
        "print(type(x))\n",
        "x = '20'\n",
        "print(type(x))\n",
        "x = 20.0\n",
        "print(type(x))"
      ],
      "execution_count": 18,
      "outputs": [
        {
          "output_type": "stream",
          "text": [
            "<class 'int'>\n",
            "<class 'str'>\n",
            "<class 'float'>\n"
          ],
          "name": "stdout"
        }
      ]
    },
    {
      "cell_type": "markdown",
      "metadata": {
        "id": "JdKpybEFOJOM",
        "colab_type": "text"
      },
      "source": [
        "##### <font color=\"blue\">Example 2"
      ]
    },
    {
      "cell_type": "code",
      "metadata": {
        "id": "2Al_wNeZOE7t",
        "colab_type": "code",
        "colab": {
          "base_uri": "https://localhost:8080/",
          "height": 35
        },
        "outputId": "e46b3f3b-c68b-43c2-e6e6-1465aa35a79b"
      },
      "source": [
        "# Example 2\n",
        "# ---\n",
        "# Manual type-conversion (string to int)\n",
        "# ---\n",
        "# \n",
        "x = 20\n",
        "y = '5'\n",
        "print(x + int(y))"
      ],
      "execution_count": 19,
      "outputs": [
        {
          "output_type": "stream",
          "text": [
            "25\n"
          ],
          "name": "stdout"
        }
      ]
    },
    {
      "cell_type": "markdown",
      "metadata": {
        "id": "XJoETlR_OKHt",
        "colab_type": "text"
      },
      "source": [
        "##### <font color=\"blue\">Example 3"
      ]
    },
    {
      "cell_type": "code",
      "metadata": {
        "id": "CmPAy-efOEx-",
        "colab_type": "code",
        "colab": {
          "base_uri": "https://localhost:8080/",
          "height": 71
        },
        "outputId": "3a164325-8952-4fed-9ab9-889445122cce"
      },
      "source": [
        "# Example 3\n",
        "# ---\n",
        "# Automatic type-conversion (int to float)\n",
        "# ---\n",
        "#\n",
        "x = 20\n",
        "print(type(x))\n",
        "x += 5.0\n",
        "print(x), type(x)"
      ],
      "execution_count": 20,
      "outputs": [
        {
          "output_type": "stream",
          "text": [
            "<class 'int'>\n",
            "25.0\n"
          ],
          "name": "stdout"
        },
        {
          "output_type": "execute_result",
          "data": {
            "text/plain": [
              "(None, float)"
            ]
          },
          "metadata": {
            "tags": []
          },
          "execution_count": 20
        }
      ]
    },
    {
      "cell_type": "markdown",
      "metadata": {
        "id": "8w3U0HVEOccy",
        "colab_type": "text"
      },
      "source": [
        "##### <font color=\"blue\">Example 4"
      ]
    },
    {
      "cell_type": "code",
      "metadata": {
        "id": "o_qQW55lOeY5",
        "colab_type": "code",
        "colab": {
          "base_uri": "https://localhost:8080/",
          "height": 53
        },
        "outputId": "8f99654c-0f9c-49e5-e913-3ac08a883e24"
      },
      "source": [
        "# Example 4\n",
        "# ---\n",
        "# Dividing Integers\n",
        "# ---\n",
        "# \n",
        "a = 20\n",
        "b = 5\n",
        "print(a/b)\n",
        "print(b/a)"
      ],
      "execution_count": 21,
      "outputs": [
        {
          "output_type": "stream",
          "text": [
            "4.0\n",
            "0.25\n"
          ],
          "name": "stdout"
        }
      ]
    },
    {
      "cell_type": "markdown",
      "metadata": {
        "id": "hDZ9eDtmOgLi",
        "colab_type": "text"
      },
      "source": [
        "##### <font color=\"blue\">Example 5"
      ]
    },
    {
      "cell_type": "code",
      "metadata": {
        "id": "RqtHFRB1OkU-",
        "colab_type": "code",
        "colab": {
          "base_uri": "https://localhost:8080/",
          "height": 35
        },
        "outputId": "66797df5-c4d4-442b-fd9a-76a9c21771b0"
      },
      "source": [
        "# Example 5\n",
        "# ---\n",
        "# Forcing float division\n",
        "# ---\n",
        "# \n",
        "print(b/int('5'))\n",
        "# How can you correct this?"
      ],
      "execution_count": 23,
      "outputs": [
        {
          "output_type": "stream",
          "text": [
            "1.0\n"
          ],
          "name": "stdout"
        }
      ]
    },
    {
      "cell_type": "markdown",
      "metadata": {
        "id": "SxIaU06sOuYQ",
        "colab_type": "text"
      },
      "source": [
        "##### <font color=\"blue\">Example 6"
      ]
    },
    {
      "cell_type": "code",
      "metadata": {
        "id": "Ho7QuNWqOvNs",
        "colab_type": "code",
        "colab": {
          "base_uri": "https://localhost:8080/",
          "height": 35
        },
        "outputId": "53d19ca8-b7f1-4bb9-bdd9-eafaf118fb92"
      },
      "source": [
        "# Examaple 6\n",
        "# ---\n",
        "# String \"arithmetic\" (actually concatenation)\n",
        "# ---\n",
        "a = 'John '\n",
        "b = 'Doe'\n",
        "print(a + b)"
      ],
      "execution_count": 24,
      "outputs": [
        {
          "output_type": "stream",
          "text": [
            "John Doe\n"
          ],
          "name": "stdout"
        }
      ]
    },
    {
      "cell_type": "markdown",
      "metadata": {
        "id": "GuR57OHgOBnM",
        "colab_type": "text"
      },
      "source": [
        "#### <font color=\"green\">Challenges</font> "
      ]
    },
    {
      "cell_type": "markdown",
      "metadata": {
        "id": "eaq4UrFLONmb",
        "colab_type": "text"
      },
      "source": [
        "##### <font color=\"green\">Challenge 1</font>"
      ]
    },
    {
      "cell_type": "code",
      "metadata": {
        "id": "sXCvJSB1OD8w",
        "colab_type": "code",
        "colab": {
          "base_uri": "https://localhost:8080/",
          "height": 35
        },
        "outputId": "79e0f12c-660d-43ac-9368-3a66b578355f"
      },
      "source": [
        "# Challenge 1\n",
        "# ---\n",
        "# Question: Concatenate and print your full names.\n",
        "# ---\n",
        "# \n",
        "a = \"Paul \"\n",
        "b = \"Muhia\"\n",
        "print(a + b)\n"
      ],
      "execution_count": 26,
      "outputs": [
        {
          "output_type": "stream",
          "text": [
            "Paul Muhia\n"
          ],
          "name": "stdout"
        }
      ]
    },
    {
      "cell_type": "markdown",
      "metadata": {
        "id": "bSurXHq_OOjc",
        "colab_type": "text"
      },
      "source": [
        "##### <font color=\"green\">Challenge 2</font>"
      ]
    },
    {
      "cell_type": "code",
      "metadata": {
        "id": "fQjDSfP1OEPH",
        "colab_type": "code",
        "colab": {
          "base_uri": "https://localhost:8080/",
          "height": 35
        },
        "outputId": "56d07db1-297d-4be8-9a01-f8d425c68673"
      },
      "source": [
        "# Challenge 2\n",
        "# ---\n",
        "# Question: Run and correct the following code.\n",
        "# ---\n",
        "# \n",
        "x = 10\n",
        "y = '5'\n",
        "print(x + int(y))"
      ],
      "execution_count": 27,
      "outputs": [
        {
          "output_type": "stream",
          "text": [
            "15\n"
          ],
          "name": "stdout"
        }
      ]
    },
    {
      "cell_type": "markdown",
      "metadata": {
        "id": "hnyRRASVOPq4",
        "colab_type": "text"
      },
      "source": [
        "##### <font color=\"green\">Challenge 3</font>"
      ]
    },
    {
      "cell_type": "code",
      "metadata": {
        "id": "7qUmDv5NOFl0",
        "colab_type": "code",
        "colab": {
          "base_uri": "https://localhost:8080/",
          "height": 35
        },
        "outputId": "c6f2f685-93f2-40cb-f47e-076c4dc7f3bc"
      },
      "source": [
        "# Challenge 3\n",
        "# ---\n",
        "# Question: Perform integer division of 199 and 3 with the result being a float.\n",
        "# ---\n",
        "# \n",
        "a = 199\n",
        "b = 3\n",
        "\n",
        "print(b/a)"
      ],
      "execution_count": 28,
      "outputs": [
        {
          "output_type": "stream",
          "text": [
            "0.01507537688442211\n"
          ],
          "name": "stdout"
        }
      ]
    },
    {
      "cell_type": "markdown",
      "metadata": {
        "id": "okwTjEZ_PCiN",
        "colab_type": "text"
      },
      "source": [
        "##### <font color=\"green\">Challenge 4</font>"
      ]
    },
    {
      "cell_type": "code",
      "metadata": {
        "id": "YThUHgEzPEfP",
        "colab_type": "code",
        "colab": {
          "base_uri": "https://localhost:8080/",
          "height": 35
        },
        "outputId": "a01503f3-dda1-4a27-a330-27fcc3d23aff"
      },
      "source": [
        "# Challenge 4\n",
        "# ---\n",
        "# Question: Concatenate and print your postal address with the City and Country.\n",
        "# ---\n",
        "# \n",
        "a = \"234\"\n",
        "b = \" Nairobi,\"\n",
        "c = \"Kenya\"\n",
        "\n",
        "print(a + b + c)"
      ],
      "execution_count": 30,
      "outputs": [
        {
          "output_type": "stream",
          "text": [
            "234 Nairobi,Kenya\n"
          ],
          "name": "stdout"
        }
      ]
    },
    {
      "cell_type": "markdown",
      "metadata": {
        "id": "80kHsk0gQiX5",
        "colab_type": "text"
      },
      "source": [
        "# 4. Lists"
      ]
    },
    {
      "cell_type": "markdown",
      "metadata": {
        "id": "r6CjXb92QsKs",
        "colab_type": "text"
      },
      "source": [
        "#### <font color=\"blue\">Examples</font>"
      ]
    },
    {
      "cell_type": "markdown",
      "metadata": {
        "id": "_We_Aif3Q_n5",
        "colab_type": "text"
      },
      "source": [
        "##### <font color=\"blue\">Example 1"
      ]
    },
    {
      "cell_type": "code",
      "metadata": {
        "id": "2JcpAVbvQd1w",
        "colab_type": "code",
        "colab": {
          "base_uri": "https://localhost:8080/",
          "height": 35
        },
        "outputId": "a42117b3-ccda-4bc7-8e79-19de88ed339e"
      },
      "source": [
        "# Example 1\n",
        "# ---\n",
        "# Creating a restaurant list\n",
        "# ---\n",
        "# \n",
        "\n",
        "# Defining our list\n",
        "restaurants = [\"cj's\", \"Java\", \"Nyama Mama\", \"Italian\", \"Swahili\", \"Khosa\"]\n",
        "\n",
        "# Printing our result\n",
        "print(restaurants)"
      ],
      "execution_count": 31,
      "outputs": [
        {
          "output_type": "stream",
          "text": [
            "[\"cj's\", 'Java', 'Nyama Mama', 'Italian', 'Swahili', 'Khosa']\n"
          ],
          "name": "stdout"
        }
      ]
    },
    {
      "cell_type": "markdown",
      "metadata": {
        "id": "sVrIv1ucRAtY",
        "colab_type": "text"
      },
      "source": [
        "##### <font color=\"blue\">Example 2"
      ]
    },
    {
      "cell_type": "code",
      "metadata": {
        "id": "aI4qEeumRCRr",
        "colab_type": "code",
        "colab": {
          "base_uri": "https://localhost:8080/",
          "height": 35
        },
        "outputId": "f87aaeed-f3df-4b40-d6db-773c75ec951c"
      },
      "source": [
        "# Example 2\n",
        "# ---\n",
        "# Adding elements to a list\n",
        "# ---\n",
        "# \n",
        "\n",
        "# Adding the restaurant Viridian to our restaurants list\n",
        "restaurants.append(\"Viridian\")\n",
        "\n",
        "# Printing our result\n",
        "print(restaurants)"
      ],
      "execution_count": 32,
      "outputs": [
        {
          "output_type": "stream",
          "text": [
            "[\"cj's\", 'Java', 'Nyama Mama', 'Italian', 'Swahili', 'Khosa', 'Viridian']\n"
          ],
          "name": "stdout"
        }
      ]
    },
    {
      "cell_type": "markdown",
      "metadata": {
        "id": "xaLN8jeYRDll",
        "colab_type": "text"
      },
      "source": [
        "##### <font color=\"blue\">Example 3"
      ]
    },
    {
      "cell_type": "code",
      "metadata": {
        "id": "eqHEZSfYRE_X",
        "colab_type": "code",
        "colab": {
          "base_uri": "https://localhost:8080/",
          "height": 35
        },
        "outputId": "d2a9d38f-19ce-4e89-c44d-bfedf74b6357"
      },
      "source": [
        "# Example 3 \n",
        "# ---\n",
        "# Updating an element in a list\n",
        "# ---\n",
        "#\n",
        "restaurants[1] = \"Asmara\"\n",
        "\n",
        "# Printing our result\n",
        "print(restaurants)"
      ],
      "execution_count": 33,
      "outputs": [
        {
          "output_type": "stream",
          "text": [
            "[\"cj's\", 'Asmara', 'Nyama Mama', 'Italian', 'Swahili', 'Khosa', 'Viridian']\n"
          ],
          "name": "stdout"
        }
      ]
    },
    {
      "cell_type": "markdown",
      "metadata": {
        "id": "dGKEWiBwTVFM",
        "colab_type": "text"
      },
      "source": [
        "##### <font color=\"blue\">Example 4"
      ]
    },
    {
      "cell_type": "code",
      "metadata": {
        "id": "JTi3KkzITYk8",
        "colab_type": "code",
        "colab": {
          "base_uri": "https://localhost:8080/",
          "height": 35
        },
        "outputId": "d4e9d0dd-425c-4f55-b46f-7ebdc46bbe63"
      },
      "source": [
        "# Example 4 \n",
        "# ---\n",
        "# Removing an element from a list\n",
        "# ---\n",
        "#\n",
        "restaurants.remove(\"Viridian\")\n",
        "\n",
        "# Printing our result\n",
        "print(restaurants)"
      ],
      "execution_count": 34,
      "outputs": [
        {
          "output_type": "stream",
          "text": [
            "[\"cj's\", 'Asmara', 'Nyama Mama', 'Italian', 'Swahili', 'Khosa']\n"
          ],
          "name": "stdout"
        }
      ]
    },
    {
      "cell_type": "markdown",
      "metadata": {
        "id": "WnXWTn9WTaJs",
        "colab_type": "text"
      },
      "source": [
        "##### <font color=\"blue\">Example 5"
      ]
    },
    {
      "cell_type": "code",
      "metadata": {
        "id": "3o416dxITbNq",
        "colab_type": "code",
        "colab": {
          "base_uri": "https://localhost:8080/",
          "height": 53
        },
        "outputId": "99c307fd-3684-4762-8ca4-3853d7ce41d4"
      },
      "source": [
        "# Example 5\n",
        "# ---\n",
        "# Slicing a list\n",
        "# ---\n",
        "#\n",
        "\n",
        "# Getting the first two elements \n",
        "print(restaurants[0:2])\n",
        "\n",
        "# Getting items from 2nd position to the end \n",
        "print(restaurants[2:])"
      ],
      "execution_count": 35,
      "outputs": [
        {
          "output_type": "stream",
          "text": [
            "[\"cj's\", 'Asmara']\n",
            "['Nyama Mama', 'Italian', 'Swahili', 'Khosa']\n"
          ],
          "name": "stdout"
        }
      ]
    },
    {
      "cell_type": "markdown",
      "metadata": {
        "id": "96-FMInjQs5S",
        "colab_type": "text"
      },
      "source": [
        "#### <font color=\"green\">Challenges</font> "
      ]
    },
    {
      "cell_type": "markdown",
      "metadata": {
        "id": "z9M2LwKAQvN_",
        "colab_type": "text"
      },
      "source": [
        "##### <font color=\"green\">Challenge 1</font>"
      ]
    },
    {
      "cell_type": "code",
      "metadata": {
        "id": "gkiZKIQfQuzt",
        "colab_type": "code",
        "colab": {}
      },
      "source": [
        "# Challenge 1\n",
        "# ---\n",
        "# Question: Create a list with 10 kenyan towns.\n",
        "# Towns: Lodwar, Thika, Kitale, Nyeri, Lamu, Naivasha, Nanyuki, Kakamega, Nyahururu, Voi\n",
        "# ---\n",
        "# \n",
        "OUR CODE GOES HERE"
      ],
      "execution_count": 0,
      "outputs": []
    },
    {
      "cell_type": "markdown",
      "metadata": {
        "id": "fnRxw0qjQ1aZ",
        "colab_type": "text"
      },
      "source": [
        "##### <font color=\"green\">Challenge 2</font>"
      ]
    },
    {
      "cell_type": "code",
      "metadata": {
        "id": "dCUhw0npQ4lD",
        "colab_type": "code",
        "colab": {}
      },
      "source": [
        "# Challenge 2\n",
        "# ---\n",
        "# Question: Add the towm Homabay to the list\n",
        "# ---\n",
        "# \n",
        "OUR CODE GOES HERE"
      ],
      "execution_count": 0,
      "outputs": []
    },
    {
      "cell_type": "markdown",
      "metadata": {
        "id": "HA99lKmhQ68W",
        "colab_type": "text"
      },
      "source": [
        "##### <font color=\"green\">Challenge 3</font>"
      ]
    },
    {
      "cell_type": "code",
      "metadata": {
        "id": "Ci5HL0QDQ8o-",
        "colab_type": "code",
        "colab": {}
      },
      "source": [
        "# Challenge 3\n",
        "# ---\n",
        "# Question: Update the city in the fifth position to Malindi\n",
        "# ---\n",
        "# \n",
        "OUR CODE GOES HERE"
      ],
      "execution_count": 0,
      "outputs": []
    },
    {
      "cell_type": "markdown",
      "metadata": {
        "id": "z7mA-mghTmOc",
        "colab_type": "text"
      },
      "source": [
        "##### <font color=\"green\">Challenge 4</font>"
      ]
    },
    {
      "cell_type": "code",
      "metadata": {
        "id": "d8oGQBGUTr3i",
        "colab_type": "code",
        "colab": {}
      },
      "source": [
        "# Challenge 4\n",
        "# ---\n",
        "# Question: Get the city Homabay and Malindi from the kenyan towns list\n",
        "# ---\n",
        "# \n",
        "OUR CODE GOES HERE"
      ],
      "execution_count": 0,
      "outputs": []
    },
    {
      "cell_type": "markdown",
      "metadata": {
        "id": "qcpLR3a_XPLd",
        "colab_type": "text"
      },
      "source": [
        "# 5. Conditional (If) Statements"
      ]
    },
    {
      "cell_type": "markdown",
      "metadata": {
        "id": "EnaCUxpRXT0J",
        "colab_type": "text"
      },
      "source": [
        "#### <font color=\"blue\">Examples</font>"
      ]
    },
    {
      "cell_type": "markdown",
      "metadata": {
        "id": "ZX5LhYDuXV2O",
        "colab_type": "text"
      },
      "source": [
        "##### <font color=\"blue\">Example 1"
      ]
    },
    {
      "cell_type": "code",
      "metadata": {
        "id": "f9y3Gs_0XF9d",
        "colab_type": "code",
        "colab": {}
      },
      "source": [
        "# Example 1\n",
        "# ---\n",
        "# If keyword\n",
        "# ---\n",
        "# \n",
        "p = 500\n",
        "q = 100\n",
        "\n",
        "if q < p:\n",
        "  print(\"y is less than x\")"
      ],
      "execution_count": 0,
      "outputs": []
    },
    {
      "cell_type": "markdown",
      "metadata": {
        "id": "7vliBrC5Xk65",
        "colab_type": "text"
      },
      "source": [
        "##### <font color=\"blue\">Example 2"
      ]
    },
    {
      "cell_type": "code",
      "metadata": {
        "id": "HChmx56TXl3j",
        "colab_type": "code",
        "colab": {}
      },
      "source": [
        "# Example 2\n",
        "# ---\n",
        "# Elif keyword\n",
        "# ---\n",
        "# \n",
        "r = 100\n",
        "s = 100\n",
        "\n",
        "p = 500\n",
        "q = 100\n",
        "\n",
        "if s < r:\n",
        "  if q < p:\n",
        "    print(\"y is less than x\")\n",
        "elif r == s:\n",
        "  print(\"r and s are equal\")"
      ],
      "execution_count": 0,
      "outputs": []
    },
    {
      "cell_type": "markdown",
      "metadata": {
        "id": "0xG8q15EXnW_",
        "colab_type": "text"
      },
      "source": [
        "##### <font color=\"blue\">Example 3"
      ]
    },
    {
      "cell_type": "code",
      "metadata": {
        "id": "jxac2rfpXpws",
        "colab_type": "code",
        "colab": {}
      },
      "source": [
        "# Example 3 \n",
        "# ---\n",
        "# Else keyword\n",
        "# ---\n",
        "# \n",
        "a = 150\n",
        "b = 50\n",
        "\n",
        "if b > a:\n",
        "  print(\"b is greater than a\")\n",
        "elif a == b:\n",
        "  print(\"a and b are equal\")\n",
        "else:\n",
        "  print(\"a is greater than b\")"
      ],
      "execution_count": 0,
      "outputs": []
    },
    {
      "cell_type": "markdown",
      "metadata": {
        "id": "2gYk4uIZYFKf",
        "colab_type": "text"
      },
      "source": [
        "##### <font color=\"blue\">Example 4"
      ]
    },
    {
      "cell_type": "code",
      "metadata": {
        "id": "cswVDkN0YGQV",
        "colab_type": "code",
        "colab": {}
      },
      "source": [
        "# Example 4\n",
        "# ---\n",
        "# And keyword\n",
        "# ---\n",
        "# \n",
        "name = \"Mary\"    \n",
        "age  = 30 \n",
        "\n",
        "if name == \"Mary\" and age == 30:\n",
        "  print(\"My name is Mary, and I am 30 years old.\")"
      ],
      "execution_count": 0,
      "outputs": []
    },
    {
      "cell_type": "markdown",
      "metadata": {
        "id": "7vPUGzblYGj1",
        "colab_type": "text"
      },
      "source": [
        "##### <font color=\"blue\">Example 5"
      ]
    },
    {
      "cell_type": "code",
      "metadata": {
        "id": "ivMrjohRYHe6",
        "colab_type": "code",
        "colab": {}
      },
      "source": [
        "# Example 5\n",
        "# ---\n",
        "# Or keyword\n",
        "# ---\n",
        "# \n",
        "a = 100\n",
        "b = 101\n",
        "c = 99\n",
        "\n",
        "if a > b or a > c:\n",
        "  print(\"At least one of the conditions is True\")"
      ],
      "execution_count": 0,
      "outputs": []
    },
    {
      "cell_type": "markdown",
      "metadata": {
        "id": "IhBdAGNeXa9N",
        "colab_type": "text"
      },
      "source": [
        "#### <font color=\"green\">Challenges</font> "
      ]
    },
    {
      "cell_type": "markdown",
      "metadata": {
        "id": "kBHUUpINXev4",
        "colab_type": "text"
      },
      "source": [
        "##### <font color=\"green\">Challenge 1</font>"
      ]
    },
    {
      "cell_type": "code",
      "metadata": {
        "id": "fae-fxEZXfix",
        "colab_type": "code",
        "colab": {}
      },
      "source": [
        "# Challenge 1\n",
        "# ---\n",
        "# Question: Find out if t is less than s\n",
        "# ---\n",
        "# OUR CODE BELOW\n",
        "#"
      ],
      "execution_count": 0,
      "outputs": []
    },
    {
      "cell_type": "markdown",
      "metadata": {
        "id": "Xk2YcqtKXgiL",
        "colab_type": "text"
      },
      "source": [
        "##### <font color=\"green\">Challenge 2</font>"
      ]
    },
    {
      "cell_type": "code",
      "metadata": {
        "id": "uTgQ2ZHZXh2k",
        "colab_type": "code",
        "colab": {}
      },
      "source": [
        "# Challenge 2\n",
        "# ---\n",
        "# Question: Write a program that checks the value of vowel, i.e. a, e, i, o or u \n",
        "# then displays whether the entered letter is a vowel.\n",
        "# ---\n",
        "# OUR CODE BELOW\n",
        "#"
      ],
      "execution_count": 0,
      "outputs": []
    },
    {
      "cell_type": "markdown",
      "metadata": {
        "id": "hdEWP1SNnFHp",
        "colab_type": "text"
      },
      "source": [
        "# 6. Dictionaries"
      ]
    },
    {
      "cell_type": "markdown",
      "metadata": {
        "id": "_TGroESwnRos",
        "colab_type": "text"
      },
      "source": [
        "#### <font color=\"blue\">Examples</font>"
      ]
    },
    {
      "cell_type": "markdown",
      "metadata": {
        "id": "TbJ6OFKqnUTy",
        "colab_type": "text"
      },
      "source": [
        "##### <font color=\"blue\">Example 1"
      ]
    },
    {
      "cell_type": "code",
      "metadata": {
        "id": "sIEWsndxnBIx",
        "colab_type": "code",
        "colab": {}
      },
      "source": [
        "# Example 1\n",
        "# ---\n",
        "# Creating a dictionary\n",
        "# ---\n",
        "# \n",
        "\n",
        "vehicle =\t{\n",
        "  'brand': 'Toyota',\n",
        "  'model': 'Subaru',\n",
        "  'year': 2019\n",
        "}\n",
        "print(vehicle)"
      ],
      "execution_count": 0,
      "outputs": []
    },
    {
      "cell_type": "markdown",
      "metadata": {
        "id": "HxuW_VVCnVgw",
        "colab_type": "text"
      },
      "source": [
        "##### <font color=\"blue\">Example 2"
      ]
    },
    {
      "cell_type": "code",
      "metadata": {
        "id": "1Vmghb0onWoR",
        "colab_type": "code",
        "colab": {}
      },
      "source": [
        "# Example 2\n",
        "# ---\n",
        "# Adding elements to a dictionary\n",
        "# ---\n",
        "# \n",
        "\n",
        "# Adding an element to your dictionary\n",
        "vehicle['engine'] = '1800cc'  \n",
        "\n",
        "# Printing out our updated dictionary\n",
        "print(vehicle)"
      ],
      "execution_count": 0,
      "outputs": []
    },
    {
      "cell_type": "markdown",
      "metadata": {
        "id": "8LarnuTTnalz",
        "colab_type": "text"
      },
      "source": [
        "##### <font color=\"blue\">Example 3"
      ]
    },
    {
      "cell_type": "code",
      "metadata": {
        "id": "iAQKOoTJnd-D",
        "colab_type": "code",
        "colab": {}
      },
      "source": [
        "# Example 3\n",
        "# ---\n",
        "# Updating elements in a dictionary\n",
        "# ---\n",
        "# \n",
        "\n",
        "# Updating an element to our dictionary\n",
        "vehicle['engine'] = '2400cc'\n",
        "\n",
        "# Printing out our updated dictionary\n",
        "print(vehicle)"
      ],
      "execution_count": 0,
      "outputs": []
    },
    {
      "cell_type": "markdown",
      "metadata": {
        "id": "VSxz3OK9nb4P",
        "colab_type": "text"
      },
      "source": [
        "##### <font color=\"blue\">Example 4"
      ]
    },
    {
      "cell_type": "code",
      "metadata": {
        "id": "9JidwoWunedW",
        "colab_type": "code",
        "colab": {}
      },
      "source": [
        "# Example 4\n",
        "# ---\n",
        "# Accessing an element from a dictionary\n",
        "# ---\n",
        "# \n",
        "\n",
        "# Printing our vehicle's model\n",
        "#\n",
        "print(vehicle[\"model\"]) \n",
        "\n",
        "# or we could use\n",
        "print(vehicle.get(\"model\"))"
      ],
      "execution_count": 0,
      "outputs": []
    },
    {
      "cell_type": "markdown",
      "metadata": {
        "id": "_xf8ei3mnc3-",
        "colab_type": "text"
      },
      "source": [
        "##### <font color=\"blue\">Example 5"
      ]
    },
    {
      "cell_type": "code",
      "metadata": {
        "id": "kBMhLSUvnfXb",
        "colab_type": "code",
        "colab": {}
      },
      "source": [
        "# Example 5\n",
        "# ---\n",
        "# Removing an element from a dictionary\n",
        "# ---\n",
        "# \n",
        "\n",
        "# Removing model from the dictionary\n",
        "vehicle_without_model = vehicle.pop(\"model\")\n",
        "vehicle"
      ],
      "execution_count": 0,
      "outputs": []
    },
    {
      "cell_type": "markdown",
      "metadata": {
        "id": "C4tY9xM-n6jP",
        "colab_type": "text"
      },
      "source": [
        "##### <font color=\"blue\">Example 6"
      ]
    },
    {
      "cell_type": "code",
      "metadata": {
        "id": "l10tZKkqn791",
        "colab_type": "code",
        "colab": {}
      },
      "source": [
        "# Example 6\n",
        "# ---\n",
        "# Checking if an element exists\n",
        "# ---\n",
        "# \n",
        "\n",
        "if \"brand\" in vehicle:\n",
        "  print(\"Yes, the keyword exists in the dictionary\")\n",
        "else:\n",
        "  print('No, the keyword does not exist in the dictionary')\n"
      ],
      "execution_count": 0,
      "outputs": []
    },
    {
      "cell_type": "markdown",
      "metadata": {
        "id": "qxG8RHFnniJT",
        "colab_type": "text"
      },
      "source": [
        "#### <font color=\"green\">Challenges</font> "
      ]
    },
    {
      "cell_type": "markdown",
      "metadata": {
        "id": "dQlkT13Gnjid",
        "colab_type": "text"
      },
      "source": [
        "##### <font color=\"green\">Challenge 1</font>"
      ]
    },
    {
      "cell_type": "code",
      "metadata": {
        "id": "omUwx9wnnlcl",
        "colab_type": "code",
        "colab": {}
      },
      "source": [
        "# Challenge 1\n",
        "# ---\n",
        "# Create a dictionary named television then populate it with \n",
        "# any values for screen_size, screen_type, manufacturer\n",
        "# ---\n",
        "#\n",
        "OUR CODE GOES HERE"
      ],
      "execution_count": 0,
      "outputs": []
    },
    {
      "cell_type": "markdown",
      "metadata": {
        "id": "6Pdl8p-QnmN1",
        "colab_type": "text"
      },
      "source": [
        "##### <font color=\"green\">Challenge 2</font>"
      ]
    },
    {
      "cell_type": "code",
      "metadata": {
        "id": "szya8o5cnnDr",
        "colab_type": "code",
        "colab": {}
      },
      "source": [
        "# Challenge 2\n",
        "# ---\n",
        "# Add the element date_of_manufacture with value 2018 to the \n",
        "# television dictionary \n",
        "# ---\n",
        "#\n",
        "OUR CODE GOES HERE"
      ],
      "execution_count": 0,
      "outputs": []
    },
    {
      "cell_type": "markdown",
      "metadata": {
        "id": "93yfMyQWnovw",
        "colab_type": "text"
      },
      "source": [
        "##### <font color=\"green\">Challenge 3</font>"
      ]
    },
    {
      "cell_type": "code",
      "metadata": {
        "id": "nRK7lwI-npy6",
        "colab_type": "code",
        "colab": {}
      },
      "source": [
        "# Challenge 3\n",
        "# Update the element date_of_manufacture with value 2019 in the \n",
        "# television dictionary \n",
        "# ---\n",
        "#\n",
        "OUR CODE GOES HERE"
      ],
      "execution_count": 0,
      "outputs": []
    },
    {
      "cell_type": "markdown",
      "metadata": {
        "id": "6T7Z10zUnquf",
        "colab_type": "text"
      },
      "source": [
        "##### <font color=\"green\">Challenge 4</font>"
      ]
    },
    {
      "cell_type": "code",
      "metadata": {
        "id": "QijrUFV6nruq",
        "colab_type": "code",
        "colab": {}
      },
      "source": [
        "# Challenge 4\n",
        "# Access the screen size in the television dictionary above\n",
        "# ---\n",
        "#\n",
        "OUR CODE GOES HERE"
      ],
      "execution_count": 0,
      "outputs": []
    },
    {
      "cell_type": "markdown",
      "metadata": {
        "id": "l4aSf1SQnsIc",
        "colab_type": "text"
      },
      "source": [
        "##### <font color=\"green\">Challenge 5</font>"
      ]
    },
    {
      "cell_type": "code",
      "metadata": {
        "id": "HE2tBOlpntTl",
        "colab_type": "code",
        "colab": {}
      },
      "source": [
        "# Challenge 45\n",
        "# Check whether designer is a key in the television dictionary \n",
        "# ---\n",
        "#\n",
        "OUR CODE GOES HERE"
      ],
      "execution_count": 0,
      "outputs": []
    },
    {
      "cell_type": "markdown",
      "metadata": {
        "id": "wW6zZPzHpPkw",
        "colab_type": "text"
      },
      "source": [
        "# 7. For Loops"
      ]
    },
    {
      "cell_type": "markdown",
      "metadata": {
        "id": "Tj7-43EzpXKP",
        "colab_type": "text"
      },
      "source": [
        "#### <font color=\"blue\">Examples</font>"
      ]
    },
    {
      "cell_type": "markdown",
      "metadata": {
        "id": "9CbPFikcpb65",
        "colab_type": "text"
      },
      "source": [
        "##### <font color=\"blue\">Example 1"
      ]
    },
    {
      "cell_type": "code",
      "metadata": {
        "id": "A6ghbClnpKgH",
        "colab_type": "code",
        "colab": {}
      },
      "source": [
        "# Example 1\n",
        "# ---\n",
        "# Looping/iterating through a string\n",
        "# ---\n",
        "# \n",
        "for y in \"Karuna Karuna\":\n",
        "  print(y)"
      ],
      "execution_count": 0,
      "outputs": []
    },
    {
      "cell_type": "markdown",
      "metadata": {
        "id": "8TToTfDxpcsC",
        "colab_type": "text"
      },
      "source": [
        "##### <font color=\"blue\">Example 2"
      ]
    },
    {
      "cell_type": "code",
      "metadata": {
        "id": "KQjf-iXjpdoW",
        "colab_type": "code",
        "colab": {}
      },
      "source": [
        "# Example 2\n",
        "# ---\n",
        "# Using a break statement to stop the loop before it continues its iteration\n",
        "# ---\n",
        "# \n",
        "\n",
        "# Let's print out the restaurants list that we had created earlier on\n",
        "restaurants = [\"cj's\", \"Java\", \"Nyama Mama\", \"Italian\", \"Viridian\", \"Khosa\"]\n",
        "\n",
        "# Looping and using a break statement\n",
        "for x in restaurants:\n",
        "  print(x) \n",
        "  if x == \"Viridian\":\n",
        "    break"
      ],
      "execution_count": 0,
      "outputs": []
    },
    {
      "cell_type": "markdown",
      "metadata": {
        "id": "O0n2jmlupeUe",
        "colab_type": "text"
      },
      "source": [
        "##### <font color=\"blue\">Example 3"
      ]
    },
    {
      "cell_type": "code",
      "metadata": {
        "id": "cwraj51ZpfqH",
        "colab_type": "code",
        "colab": {}
      },
      "source": [
        "# Example 3\n",
        "# ---\n",
        "# Using a continue statement to stop the current iteration of the loop \n",
        "# and continue the next section of our code\n",
        "# ---\n",
        "# \n",
        "\n",
        "mobile_phone = [\"iphone 4\", \"iphone 5\", \"iphone 6\", \"iphone 7\", \"iphone 8\", \"iphone x\", \"iphone xs\"]\n",
        "\n",
        "for x in mobile_phone:  \n",
        "    if x == 'iphone 6' or x == 'iphone 8': \n",
        "         continue\n",
        "    print ('Checked Phone :', x) "
      ],
      "execution_count": 0,
      "outputs": []
    },
    {
      "cell_type": "markdown",
      "metadata": {
        "id": "uBJfTBcDpooj",
        "colab_type": "text"
      },
      "source": [
        "#### <font color=\"green\">Challenges</font> "
      ]
    },
    {
      "cell_type": "markdown",
      "metadata": {
        "id": "xVpVBXPkprnS",
        "colab_type": "text"
      },
      "source": [
        "##### <font color=\"green\">Challenge 1</font>"
      ]
    },
    {
      "cell_type": "code",
      "metadata": {
        "id": "HFGk4EqIppVV",
        "colab_type": "code",
        "colab": {}
      },
      "source": [
        "# Challenge 1\n",
        "# ---\n",
        "# Question: Iterate through the string \"My land is Kenya\"\n",
        "# ---\n",
        "#\n",
        "OUR CODE GOES HERE"
      ],
      "execution_count": 0,
      "outputs": []
    },
    {
      "cell_type": "markdown",
      "metadata": {
        "id": "05xi5W5kpsYM",
        "colab_type": "text"
      },
      "source": [
        "##### <font color=\"green\">Challenge 2</font>"
      ]
    },
    {
      "cell_type": "code",
      "metadata": {
        "id": "E3VR4EOWptKc",
        "colab_type": "code",
        "colab": {}
      },
      "source": [
        "# Challenge 2\n",
        "# ---\n",
        "# Question: Iterate through the given footballers list and stop at \"Mariga\"\n",
        "# ---\n",
        "# \n",
        "\n",
        "footballers = [\"Oliech\", \"Kahata\", \"Yohana\", \"Matasi\", \"Mariga\", \"Wanyama\"]\n",
        "\n",
        "OUR CODE GOES HERE"
      ],
      "execution_count": 0,
      "outputs": []
    },
    {
      "cell_type": "markdown",
      "metadata": {
        "id": "wtPFkTZCptbR",
        "colab_type": "text"
      },
      "source": [
        "##### <font color=\"green\">Challenge 3</font>"
      ]
    },
    {
      "cell_type": "code",
      "metadata": {
        "id": "FyFcSQtNpt-x",
        "colab_type": "code",
        "colab": {}
      },
      "source": [
        "# Challenge 3\n",
        "# ---\n",
        "# Let's print out a word if it doesn't have the letter \"e\" in the given cakes below\n",
        "# ---\n",
        "# Hint: \n",
        "# \n",
        "\n",
        "cakes = [\"Blueberry\", \"Raspberry\", \"Vanilla\", \"Chocolate\", \"Marble\", \"Apple\", \"Banana\", \"Passion\"]\n",
        "\n",
        "OUR CODE GOES HERE"
      ],
      "execution_count": 0,
      "outputs": []
    },
    {
      "cell_type": "markdown",
      "metadata": {
        "id": "lY-G45bwqiq8",
        "colab_type": "text"
      },
      "source": [
        "# 8. While Loops"
      ]
    },
    {
      "cell_type": "markdown",
      "metadata": {
        "id": "pZnqvIFlqrcF",
        "colab_type": "text"
      },
      "source": [
        "#### <font color=\"blue\">Examples</font>"
      ]
    },
    {
      "cell_type": "markdown",
      "metadata": {
        "id": "iO82jGS5qwik",
        "colab_type": "text"
      },
      "source": [
        "##### <font color=\"blue\">Example 1"
      ]
    },
    {
      "cell_type": "code",
      "metadata": {
        "id": "Miw-1LdYqfoZ",
        "colab_type": "code",
        "colab": {}
      },
      "source": [
        "# Example 1\n",
        "# ---\n",
        "# Iterating over a list using the while loop\n",
        "# ---\n",
        "\n",
        "# First defining our list\n",
        "teachers = ['Mukami', 'Kamau', 'Oliech', 'Otieno', 'Ewar', 'Nyambura', 'Lucas', 'Dennis', 'Hellen']\n",
        "\n",
        "# Our while loop will start counting from 0,\n",
        "i = 0\n",
        "\n",
        "# determining the no. of elements in our teachers list\n",
        "no_of_teachers = len(teachers) \n",
        "\n",
        "# Performing our iteration, starting from 0 until i is not less than the no_of_teachers\n",
        "while i < no_of_teachers:\n",
        "  \n",
        "  # print out the element in the list as per the index\n",
        "  print(teachers[i])\n",
        "  \n",
        "  # incrementing our i by 1\n",
        "  i += 1"
      ],
      "execution_count": 0,
      "outputs": []
    },
    {
      "cell_type": "markdown",
      "metadata": {
        "id": "iU4HK7hrqiMO",
        "colab_type": "text"
      },
      "source": [
        "##### <font color=\"blue\">Example 2"
      ]
    },
    {
      "cell_type": "code",
      "metadata": {
        "id": "OMGyf-1hqyQS",
        "colab_type": "code",
        "colab": {}
      },
      "source": [
        "# Example 2\n",
        "# ---\n",
        "# Using a break statement while iterating over our teachers list\n",
        "# ---\n",
        "# \n",
        "\n",
        "# Our while loop will start counting from 0,\n",
        "i = 0\n",
        "\n",
        "# determining the no. of elements in our teachers list\n",
        "no_of_teachers = len(teachers) \n",
        "\n",
        "# defining our word variable\n",
        "word = \"Emma\"\n",
        "\n",
        "\n",
        "# Performing our iteration, starting from 0 until i is not less than the no_of_teachers\n",
        "while i < no_of_teachers:\n",
        "  \n",
        "  # print out the element in the list as per the index\n",
        "  if word == teachers[i]:\n",
        "    \n",
        "      print(\"Find the element at position:\",i)\n",
        "    \n",
        "      break\n",
        "  \n",
        "  # incrementing our i by 1\n",
        "  i += 1"
      ],
      "execution_count": 0,
      "outputs": []
    },
    {
      "cell_type": "markdown",
      "metadata": {
        "id": "UoUvopuiqz1A",
        "colab_type": "text"
      },
      "source": [
        "##### <font color=\"blue\">Example 3"
      ]
    },
    {
      "cell_type": "code",
      "metadata": {
        "id": "OpzRASVXq07R",
        "colab_type": "code",
        "colab": {}
      },
      "source": [
        "# Example 3\n",
        "# ---\n",
        "# Using the continue statement forces the next iteration of the loop to take place \n",
        "# ---\n",
        "#\n",
        "\n",
        "# Our while loop will start counting from 0,\n",
        "i = 0\n",
        "\n",
        "# determining the no. of elements in our teachers list\n",
        "no_of_teachers = len(teachers) \n",
        "\n",
        "# defining our word variable\n",
        "word = \"Emma\"\n",
        "\n",
        "\n",
        "# Performing our iteration, starting from 0 until i is not less than the no_of_teachers\n",
        "while i < no_of_teachers:\n",
        "  \n",
        "    print(\"Checking element:\", i)\n",
        "    \n",
        "    if word != teachers[i]:\n",
        "        \n",
        "        i = i + 1\n",
        "        \n",
        "        continue\n",
        " \n",
        "    print(\"Find the element at \", i)\n",
        "    \n",
        "    # stop the loop\n",
        "    i = no_of_teachers "
      ],
      "execution_count": 0,
      "outputs": []
    },
    {
      "cell_type": "markdown",
      "metadata": {
        "id": "_BlOlAaNq4Aj",
        "colab_type": "text"
      },
      "source": [
        "#### <font color=\"green\">Challenges</font> "
      ]
    },
    {
      "cell_type": "markdown",
      "metadata": {
        "id": "yDuSe7aAq56q",
        "colab_type": "text"
      },
      "source": [
        "##### <font color=\"green\">Challenge 1</font>"
      ]
    },
    {
      "cell_type": "code",
      "metadata": {
        "id": "lDRkMkFIq7n5",
        "colab_type": "code",
        "colab": {}
      },
      "source": [
        "# Challenge 1\n",
        "# ---\n",
        "# Question: Iterate through the following list and stop at 8\n",
        "# ---\n",
        "# \n",
        "\n",
        "a = [1, 2, 4, 12, 1, 2, 3, (5, 6), ['Hello', 'From', 'The'], 8, 'Other', 'Side']\n",
        "\n",
        "OUR CODE GOES HERE"
      ],
      "execution_count": 0,
      "outputs": []
    },
    {
      "cell_type": "markdown",
      "metadata": {
        "id": "m4u98nWIq76h",
        "colab_type": "text"
      },
      "source": [
        "##### <font color=\"green\">Challenge 2</font>"
      ]
    },
    {
      "cell_type": "code",
      "metadata": {
        "id": "sZwMk2rxq8wP",
        "colab_type": "code",
        "colab": {}
      },
      "source": [
        "# Challenge 2 \n",
        "# ---\n",
        "# Question: Create a while loop that prints out the following list \n",
        "# skipping the string 'Other' during iteration.\n",
        "# ---\n",
        "# \n",
        "\n",
        "a = [1, 2, 4, 12, 1, 2, 3, (5, 6), ['Hello', 'From', 'The'], 8, 'Other', 'Side']\n",
        "\n",
        "OUR CODE GOES HERE"
      ],
      "execution_count": 0,
      "outputs": []
    },
    {
      "cell_type": "markdown",
      "metadata": {
        "id": "rYrnAuYBryYC",
        "colab_type": "text"
      },
      "source": [
        "# 9. Functions "
      ]
    },
    {
      "cell_type": "markdown",
      "metadata": {
        "id": "WOi0gv2Dr83t",
        "colab_type": "text"
      },
      "source": [
        "#### <font color=\"blue\">Examples</font>"
      ]
    },
    {
      "cell_type": "markdown",
      "metadata": {
        "id": "GgSYzCUYsCWG",
        "colab_type": "text"
      },
      "source": [
        "##### <font color=\"blue\">Example 1"
      ]
    },
    {
      "cell_type": "code",
      "metadata": {
        "id": "0zJ1kn1BrwkV",
        "colab_type": "code",
        "colab": {}
      },
      "source": [
        "# Example 1\n",
        "# ---\n",
        "# Let's use built-in functions\n",
        "# ---\n",
        "# \n",
        "\n",
        "# The max() function will return the item with the highest value as shown\n",
        "# in the given list\n",
        "x = max([23, 22, 55, 23, 44])\n",
        "print(x)\n",
        "\n",
        "# Using the max() function, we can return the item with the highest value alphabetically\n",
        "y = max([\"Susan\", \"Grace\", \"Simon\"])\n",
        "print(y)"
      ],
      "execution_count": 0,
      "outputs": []
    },
    {
      "cell_type": "markdown",
      "metadata": {
        "id": "-bAG0iH2sDiV",
        "colab_type": "text"
      },
      "source": [
        "##### <font color=\"blue\">Example 2"
      ]
    },
    {
      "cell_type": "code",
      "metadata": {
        "id": "0YQ7eSTvsEZP",
        "colab_type": "code",
        "colab": {}
      },
      "source": [
        "# Example 2\n",
        "# ---\n",
        "# Let's create a function to find out which of two numbers is greater than the other \n",
        "# ---\n",
        "#\n",
        "\n",
        "# we define it by giving it the name max_of_two\n",
        "def max_of_two():\n",
        "  \n",
        "  # we then define our variables that will contain the numbers to be manipulated\n",
        "  first_number  = 10\n",
        "  second_number = 5\n",
        "  \n",
        "  # then we perform our operations i.e. in this case,\n",
        "  # if first_number is greater than second_number etc.\n",
        "  if first_number > second_number:\n",
        "    \n",
        "      # the return keyword allows us to provide back the result/output of our function\n",
        "    return first_number\n",
        "  \n",
        "    # the return key word allows us to provide back the result/output of our function\n",
        "  return second_number\n",
        " \n",
        "# Lastly, we do the most important step; which is to call the function that \n",
        "# we have just created above. Calling allows us to use the function. \n",
        "# We have also been calling our built-in functions from the previous section.\n",
        "#\n",
        "max_of_two()"
      ],
      "execution_count": 0,
      "outputs": []
    },
    {
      "cell_type": "markdown",
      "metadata": {
        "id": "47gh_27esFHZ",
        "colab_type": "text"
      },
      "source": [
        "##### <font color=\"blue\">Example 3"
      ]
    },
    {
      "cell_type": "code",
      "metadata": {
        "id": "a8odALGjsGJy",
        "colab_type": "code",
        "colab": {}
      },
      "source": [
        "# Example 3\n",
        "# ---\n",
        "# Let's define our function by creating a \n",
        "# ---\n",
        "#\n",
        "\n",
        "def average_of_two_numbers(x, y): \n",
        "  average_of_two_numbers = (x + y)/2 \n",
        "  return print(average_of_two_numbers)  \n",
        "  \n",
        "average_of_two_numbers(4, 5) "
      ],
      "execution_count": 0,
      "outputs": []
    },
    {
      "cell_type": "markdown",
      "metadata": {
        "id": "m1FOyDx-r_C_",
        "colab_type": "text"
      },
      "source": [
        "#### <font color=\"green\">Challenges</font> "
      ]
    },
    {
      "cell_type": "markdown",
      "metadata": {
        "id": "PgsptduxsKGg",
        "colab_type": "text"
      },
      "source": [
        "##### <font color=\"green\">Challenge 1</font>"
      ]
    },
    {
      "cell_type": "code",
      "metadata": {
        "id": "t4PE4y_Vr_1Q",
        "colab_type": "code",
        "colab": {}
      },
      "source": [
        "# Challenge 1\n",
        "# ---\n",
        "# Question: Determine the lowest value in the given array\n",
        "# ---\n",
        "#\n",
        "\n",
        "x = [23, 22, 55, 23, 44]\n",
        "\n",
        "OUR CODE GOES HERE"
      ],
      "execution_count": 0,
      "outputs": []
    },
    {
      "cell_type": "markdown",
      "metadata": {
        "id": "88bM7tZ2sLI4",
        "colab_type": "text"
      },
      "source": [
        "##### <font color=\"green\">Challenge 2</font>"
      ]
    },
    {
      "cell_type": "code",
      "metadata": {
        "id": "W7aQKJ96sL_F",
        "colab_type": "code",
        "colab": {}
      },
      "source": [
        "# Challenge 2\n",
        "# ---\n",
        "# Create function that takes in first_name, middle_name, and last_name \n",
        "# as parameters and returns the full name\n",
        "# ---\n",
        "#\n",
        "OUR CODE GOES HERE"
      ],
      "execution_count": 0,
      "outputs": []
    },
    {
      "cell_type": "markdown",
      "metadata": {
        "id": "E_kcos-EsMTo",
        "colab_type": "text"
      },
      "source": [
        "##### <font color=\"green\">Challenge 3</font>"
      ]
    },
    {
      "cell_type": "code",
      "metadata": {
        "id": "G0RuVWaVsNPD",
        "colab_type": "code",
        "colab": {}
      },
      "source": [
        "# Challenge 3\n",
        "# ---\n",
        "# Question: Create a python function that calculates the area of rectangle \n",
        "# when the value of the height and width is passed to the function.\n",
        "# ---\n",
        "# \n",
        "OUR CODE GOES HERE"
      ],
      "execution_count": 0,
      "outputs": []
    },
    {
      "cell_type": "markdown",
      "metadata": {
        "id": "jpvE6cqosOFe",
        "colab_type": "text"
      },
      "source": [
        "##### <font color=\"green\">Challenge 4</font>"
      ]
    },
    {
      "cell_type": "code",
      "metadata": {
        "id": "Zx5cUD33sO63",
        "colab_type": "code",
        "colab": {}
      },
      "source": [
        "# Challenge 4\n",
        "# ---\n",
        "# Question: Uberite, a logistics app has a base fare of Ksh. 400. \n",
        "# The app charges Ksh. 30 for every 100 meters travelled. \n",
        "# Create a python function fare that takes the distance travelled \n",
        "# as a parameter and returns the charge.\n",
        "# ---\n",
        "# \n",
        "OUR CODE GOES HERE "
      ],
      "execution_count": 0,
      "outputs": []
    }
  ]
}